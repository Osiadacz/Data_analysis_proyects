{
 "cells": [
  {
   "cell_type": "code",
   "execution_count": 3,
   "metadata": {},
   "outputs": [],
   "source": [
    "import numpy as np\n",
    "import pandas as pd\n",
    "import statsmodels.api as sm\n",
    "import matplotlib.pyplot as plt\n",
    "import seaborn as sns\n",
    "sns.set()\n",
    "import mitosheet\n",
    "import klib\n",
    "import warnings\n",
    "warnings.simplefilter(action='ignore', category=FutureWarning)"
   ]
  },
  {
   "cell_type": "code",
   "execution_count": null,
   "metadata": {},
   "outputs": [],
   "source": [
    "raw_data = pd.read_csv(r'E:\\Proyects\\Python proyects\\Datasets\\Real_estate_price_prediction.csv')\n",
    "data = raw_data.copy()\n",
    "data"
   ]
  },
  {
   "cell_type": "code",
   "execution_count": 5,
   "metadata": {},
   "outputs": [
    {
     "data": {
      "application/vnd.jupyter.widget-view+json": {
       "model_id": "58f02569ae5d4b6f92bdd317fa68ccb6",
       "version_major": 2,
       "version_minor": 0
      },
      "text/plain": [
       "MitoWidget(analysis_data_json='{\"analysisName\": \"UUID-112d8cba-6c63-40f6-87af-d066acad88eb\", \"code\": {\"imports…"
      ]
     },
     "metadata": {},
     "output_type": "display_data"
    }
   ],
   "source": [
    "import mitosheet\n",
    "mitosheet.sheet(data, view_df=True)"
   ]
  },
  {
   "cell_type": "code",
   "execution_count": 6,
   "metadata": {},
   "outputs": [
    {
     "data": {
      "text/plain": [
       "No                                          int64\n",
       "X1 transaction date                       float64\n",
       "X2 house age                              float64\n",
       "X3 distance to the nearest MRT station    float64\n",
       "X4 number of convenience stores             int64\n",
       "X5 latitude                               float64\n",
       "X6 longitude                              float64\n",
       "Y house price of unit area                float64\n",
       "dtype: object"
      ]
     },
     "execution_count": 6,
     "metadata": {},
     "output_type": "execute_result"
    }
   ],
   "source": [
    "data.dtypes"
   ]
  },
  {
   "cell_type": "code",
   "execution_count": 7,
   "metadata": {},
   "outputs": [
    {
     "data": {
      "text/plain": [
       "(414, 8)"
      ]
     },
     "execution_count": 7,
     "metadata": {},
     "output_type": "execute_result"
    }
   ],
   "source": [
    "data.shape"
   ]
  },
  {
   "cell_type": "code",
   "execution_count": 8,
   "metadata": {},
   "outputs": [
    {
     "data": {
      "text/plain": [
       "No                                        414\n",
       "X1 transaction date                        12\n",
       "X2 house age                              236\n",
       "X3 distance to the nearest MRT station    259\n",
       "X4 number of convenience stores            11\n",
       "X5 latitude                               234\n",
       "X6 longitude                              232\n",
       "Y house price of unit area                270\n",
       "dtype: int64"
      ]
     },
     "execution_count": 8,
     "metadata": {},
     "output_type": "execute_result"
    }
   ],
   "source": [
    "data.nunique()"
   ]
  },
  {
   "cell_type": "code",
   "execution_count": 9,
   "metadata": {},
   "outputs": [],
   "source": [
    "data.rename(columns = {'X1 transaction date': 'x1_transaction_date', 'X2 house age': 'x2_house_age_(years)',\n",
    "                       'X3 distance to the nearest MRT station': 'x3_nearest_mrt_station_(meters)', 'X4 number of convenience stores': 'x4_number_of_convenience_stores', \n",
    "                       'X5 latitude': 'x5_latitude', 'X6 longitude': 'x6_longitude', 'Y house price of unit area': 'y_house_price_of_unit_area'}, inplace = True)"
   ]
  },
  {
   "cell_type": "code",
   "execution_count": 10,
   "metadata": {},
   "outputs": [
    {
     "data": {
      "text/html": [
       "<div><div id=cb1ab55e-1ec2-451a-8ff6-c989445ffb0a style=\"display:none; background-color:#9D6CFF; color:white; width:200px; height:30px; padding-left:5px; border-radius:4px; flex-direction:row; justify-content:space-around; align-items:center;\" onmouseover=\"this.style.backgroundColor='#BA9BF8'\" onmouseout=\"this.style.backgroundColor='#9D6CFF'\" onclick=\"window.commands?.execute('create-mitosheet-from-dataframe-output');\">See Full Dataframe in Mito</div> <script> if (window.commands.hasCommand('create-mitosheet-from-dataframe-output')) document.getElementById('cb1ab55e-1ec2-451a-8ff6-c989445ffb0a').style.display = 'flex' </script> <table border=\"1\" class=\"dataframe\">\n",
       "  <thead>\n",
       "    <tr style=\"text-align: right;\">\n",
       "      <th></th>\n",
       "      <th>No</th>\n",
       "      <th>x1_transaction_date</th>\n",
       "      <th>x2_house_age_(years)</th>\n",
       "      <th>x3_nearest_mrt_station_(meters)</th>\n",
       "      <th>x4_number_of_convenience_stores</th>\n",
       "      <th>x5_latitude</th>\n",
       "      <th>x6_longitude</th>\n",
       "      <th>y_house_price_of_unit_area</th>\n",
       "    </tr>\n",
       "  </thead>\n",
       "  <tbody>\n",
       "    <tr>\n",
       "      <th>0</th>\n",
       "      <td>1</td>\n",
       "      <td>2012.917</td>\n",
       "      <td>32.0</td>\n",
       "      <td>84.87882</td>\n",
       "      <td>10</td>\n",
       "      <td>24.98298</td>\n",
       "      <td>121.54024</td>\n",
       "      <td>37.9</td>\n",
       "    </tr>\n",
       "    <tr>\n",
       "      <th>1</th>\n",
       "      <td>2</td>\n",
       "      <td>2012.917</td>\n",
       "      <td>19.5</td>\n",
       "      <td>306.59470</td>\n",
       "      <td>9</td>\n",
       "      <td>24.98034</td>\n",
       "      <td>121.53951</td>\n",
       "      <td>42.2</td>\n",
       "    </tr>\n",
       "    <tr>\n",
       "      <th>2</th>\n",
       "      <td>3</td>\n",
       "      <td>2013.583</td>\n",
       "      <td>13.3</td>\n",
       "      <td>561.98450</td>\n",
       "      <td>5</td>\n",
       "      <td>24.98746</td>\n",
       "      <td>121.54391</td>\n",
       "      <td>47.3</td>\n",
       "    </tr>\n",
       "    <tr>\n",
       "      <th>3</th>\n",
       "      <td>4</td>\n",
       "      <td>2013.500</td>\n",
       "      <td>13.3</td>\n",
       "      <td>561.98450</td>\n",
       "      <td>5</td>\n",
       "      <td>24.98746</td>\n",
       "      <td>121.54391</td>\n",
       "      <td>54.8</td>\n",
       "    </tr>\n",
       "    <tr>\n",
       "      <th>4</th>\n",
       "      <td>5</td>\n",
       "      <td>2012.833</td>\n",
       "      <td>5.0</td>\n",
       "      <td>390.56840</td>\n",
       "      <td>5</td>\n",
       "      <td>24.97937</td>\n",
       "      <td>121.54245</td>\n",
       "      <td>43.1</td>\n",
       "    </tr>\n",
       "  </tbody>\n",
       "</table></div>"
      ],
      "text/plain": [
       "   No  x1_transaction_date  x2_house_age_(years)  \\\n",
       "0   1             2012.917                  32.0   \n",
       "1   2             2012.917                  19.5   \n",
       "2   3             2013.583                  13.3   \n",
       "3   4             2013.500                  13.3   \n",
       "4   5             2012.833                   5.0   \n",
       "\n",
       "   x3_nearest_mrt_station_(meters)  x4_number_of_convenience_stores  \\\n",
       "0                         84.87882                               10   \n",
       "1                        306.59470                                9   \n",
       "2                        561.98450                                5   \n",
       "3                        561.98450                                5   \n",
       "4                        390.56840                                5   \n",
       "\n",
       "   x5_latitude  x6_longitude  y_house_price_of_unit_area  \n",
       "0     24.98298     121.54024                        37.9  \n",
       "1     24.98034     121.53951                        42.2  \n",
       "2     24.98746     121.54391                        47.3  \n",
       "3     24.98746     121.54391                        54.8  \n",
       "4     24.97937     121.54245                        43.1  "
      ]
     },
     "execution_count": 10,
     "metadata": {},
     "output_type": "execute_result"
    }
   ],
   "source": [
    "data.head()"
   ]
  },
  {
   "cell_type": "code",
   "execution_count": 11,
   "metadata": {},
   "outputs": [],
   "source": [
    "data = data.round({'x1_transaction_date': 1, 'x3_nearest_mrt_station_(meters)': 1})"
   ]
  },
  {
   "cell_type": "code",
   "execution_count": 12,
   "metadata": {},
   "outputs": [
    {
     "data": {
      "text/html": [
       "<div><div id=29639192-cab8-41b8-b90a-91a33ed27449 style=\"display:none; background-color:#9D6CFF; color:white; width:200px; height:30px; padding-left:5px; border-radius:4px; flex-direction:row; justify-content:space-around; align-items:center;\" onmouseover=\"this.style.backgroundColor='#BA9BF8'\" onmouseout=\"this.style.backgroundColor='#9D6CFF'\" onclick=\"window.commands?.execute('create-mitosheet-from-dataframe-output');\">See Full Dataframe in Mito</div> <script> if (window.commands.hasCommand('create-mitosheet-from-dataframe-output')) document.getElementById('29639192-cab8-41b8-b90a-91a33ed27449').style.display = 'flex' </script> <table border=\"1\" class=\"dataframe\">\n",
       "  <thead>\n",
       "    <tr style=\"text-align: right;\">\n",
       "      <th></th>\n",
       "      <th>No</th>\n",
       "      <th>x1_transaction_date</th>\n",
       "      <th>x2_house_age_(years)</th>\n",
       "      <th>x3_nearest_mrt_station_(meters)</th>\n",
       "      <th>x4_number_of_convenience_stores</th>\n",
       "      <th>x5_latitude</th>\n",
       "      <th>x6_longitude</th>\n",
       "      <th>y_house_price_of_unit_area</th>\n",
       "    </tr>\n",
       "  </thead>\n",
       "  <tbody>\n",
       "    <tr>\n",
       "      <th>0</th>\n",
       "      <td>1</td>\n",
       "      <td>2012.9</td>\n",
       "      <td>32.0</td>\n",
       "      <td>84.9</td>\n",
       "      <td>10</td>\n",
       "      <td>24.98298</td>\n",
       "      <td>121.54024</td>\n",
       "      <td>37.9</td>\n",
       "    </tr>\n",
       "    <tr>\n",
       "      <th>1</th>\n",
       "      <td>2</td>\n",
       "      <td>2012.9</td>\n",
       "      <td>19.5</td>\n",
       "      <td>306.6</td>\n",
       "      <td>9</td>\n",
       "      <td>24.98034</td>\n",
       "      <td>121.53951</td>\n",
       "      <td>42.2</td>\n",
       "    </tr>\n",
       "    <tr>\n",
       "      <th>2</th>\n",
       "      <td>3</td>\n",
       "      <td>2013.6</td>\n",
       "      <td>13.3</td>\n",
       "      <td>562.0</td>\n",
       "      <td>5</td>\n",
       "      <td>24.98746</td>\n",
       "      <td>121.54391</td>\n",
       "      <td>47.3</td>\n",
       "    </tr>\n",
       "    <tr>\n",
       "      <th>3</th>\n",
       "      <td>4</td>\n",
       "      <td>2013.5</td>\n",
       "      <td>13.3</td>\n",
       "      <td>562.0</td>\n",
       "      <td>5</td>\n",
       "      <td>24.98746</td>\n",
       "      <td>121.54391</td>\n",
       "      <td>54.8</td>\n",
       "    </tr>\n",
       "    <tr>\n",
       "      <th>4</th>\n",
       "      <td>5</td>\n",
       "      <td>2012.8</td>\n",
       "      <td>5.0</td>\n",
       "      <td>390.6</td>\n",
       "      <td>5</td>\n",
       "      <td>24.97937</td>\n",
       "      <td>121.54245</td>\n",
       "      <td>43.1</td>\n",
       "    </tr>\n",
       "  </tbody>\n",
       "</table></div>"
      ],
      "text/plain": [
       "   No  x1_transaction_date  x2_house_age_(years)  \\\n",
       "0   1               2012.9                  32.0   \n",
       "1   2               2012.9                  19.5   \n",
       "2   3               2013.6                  13.3   \n",
       "3   4               2013.5                  13.3   \n",
       "4   5               2012.8                   5.0   \n",
       "\n",
       "   x3_nearest_mrt_station_(meters)  x4_number_of_convenience_stores  \\\n",
       "0                             84.9                               10   \n",
       "1                            306.6                                9   \n",
       "2                            562.0                                5   \n",
       "3                            562.0                                5   \n",
       "4                            390.6                                5   \n",
       "\n",
       "   x5_latitude  x6_longitude  y_house_price_of_unit_area  \n",
       "0     24.98298     121.54024                        37.9  \n",
       "1     24.98034     121.53951                        42.2  \n",
       "2     24.98746     121.54391                        47.3  \n",
       "3     24.98746     121.54391                        54.8  \n",
       "4     24.97937     121.54245                        43.1  "
      ]
     },
     "execution_count": 12,
     "metadata": {},
     "output_type": "execute_result"
    }
   ],
   "source": [
    "data.head()"
   ]
  },
  {
   "cell_type": "code",
   "execution_count": 13,
   "metadata": {},
   "outputs": [
    {
     "name": "stdout",
     "output_type": "stream",
     "text": [
      "<class 'pandas.core.frame.DataFrame'>\n",
      "RangeIndex: 414 entries, 0 to 413\n",
      "Data columns (total 8 columns):\n",
      " #   Column                           Non-Null Count  Dtype  \n",
      "---  ------                           --------------  -----  \n",
      " 0   No                               414 non-null    int64  \n",
      " 1   x1_transaction_date              414 non-null    float64\n",
      " 2   x2_house_age_(years)             414 non-null    float64\n",
      " 3   x3_nearest_mrt_station_(meters)  414 non-null    float64\n",
      " 4   x4_number_of_convenience_stores  414 non-null    int64  \n",
      " 5   x5_latitude                      414 non-null    float64\n",
      " 6   x6_longitude                     414 non-null    float64\n",
      " 7   y_house_price_of_unit_area       414 non-null    float64\n",
      "dtypes: float64(6), int64(2)\n",
      "memory usage: 26.0 KB\n"
     ]
    }
   ],
   "source": [
    "data.info()"
   ]
  },
  {
   "cell_type": "code",
   "execution_count": 14,
   "metadata": {},
   "outputs": [
    {
     "data": {
      "text/html": [
       "<style type=\"text/css\">\n",
       "#T_88412_row0_col0, #T_88412_row1_col1, #T_88412_row1_col2, #T_88412_row1_col3, #T_88412_row1_col4, #T_88412_row1_col5, #T_88412_row1_col7, #T_88412_row2_col1, #T_88412_row2_col2, #T_88412_row2_col3, #T_88412_row2_col4, #T_88412_row2_col5, #T_88412_row3_col1, #T_88412_row3_col2, #T_88412_row3_col3, #T_88412_row4_col1, #T_88412_row4_col2, #T_88412_row4_col4, #T_88412_row4_col5, #T_88412_row4_col6, #T_88412_row4_col7, #T_88412_row5_col1, #T_88412_row5_col2, #T_88412_row5_col4, #T_88412_row5_col5, #T_88412_row5_col6, #T_88412_row5_col7, #T_88412_row6_col4, #T_88412_row6_col5, #T_88412_row6_col6, #T_88412_row6_col7, #T_88412_row7_col1, #T_88412_row7_col4, #T_88412_row7_col5, #T_88412_row7_col6, #T_88412_row7_col7 {\n",
       "  color: None;\n",
       "}\n",
       "#T_88412_row0_col1, #T_88412_row0_col2, #T_88412_row0_col3, #T_88412_row0_col4, #T_88412_row0_col5, #T_88412_row0_col6, #T_88412_row0_col7, #T_88412_row1_col0, #T_88412_row1_col6, #T_88412_row2_col0, #T_88412_row2_col6, #T_88412_row2_col7, #T_88412_row3_col0, #T_88412_row3_col4, #T_88412_row3_col5, #T_88412_row3_col6, #T_88412_row3_col7, #T_88412_row4_col0, #T_88412_row4_col3, #T_88412_row5_col0, #T_88412_row5_col3, #T_88412_row6_col0, #T_88412_row6_col1, #T_88412_row6_col2, #T_88412_row6_col3, #T_88412_row7_col0, #T_88412_row7_col2, #T_88412_row7_col3 {\n",
       "  color: #FF3344;\n",
       "}\n",
       "</style>\n",
       "<table id=\"T_88412_\">\n",
       "  <thead>\n",
       "    <tr>\n",
       "      <th class=\"blank level0\" >&nbsp;</th>\n",
       "      <th class=\"col_heading level0 col0\" >No</th>\n",
       "      <th class=\"col_heading level0 col1\" >x1_transaction_date</th>\n",
       "      <th class=\"col_heading level0 col2\" >x2_house_age_(years)</th>\n",
       "      <th class=\"col_heading level0 col3\" >x3_nearest_mrt_station_(meters)</th>\n",
       "      <th class=\"col_heading level0 col4\" >x4_number_of_convenience_stores</th>\n",
       "      <th class=\"col_heading level0 col5\" >x5_latitude</th>\n",
       "      <th class=\"col_heading level0 col6\" >x6_longitude</th>\n",
       "      <th class=\"col_heading level0 col7\" >y_house_price_of_unit_area</th>\n",
       "    </tr>\n",
       "  </thead>\n",
       "  <tbody>\n",
       "    <tr>\n",
       "      <th id=\"T_88412_level0_row0\" class=\"row_heading level0 row0\" >No</th>\n",
       "      <td id=\"T_88412_row0_col0\" class=\"data row0 col0\" >1.00</td>\n",
       "      <td id=\"T_88412_row0_col1\" class=\"data row0 col1\" >-0.06</td>\n",
       "      <td id=\"T_88412_row0_col2\" class=\"data row0 col2\" >-0.03</td>\n",
       "      <td id=\"T_88412_row0_col3\" class=\"data row0 col3\" >-0.01</td>\n",
       "      <td id=\"T_88412_row0_col4\" class=\"data row0 col4\" >-0.01</td>\n",
       "      <td id=\"T_88412_row0_col5\" class=\"data row0 col5\" >-0.01</td>\n",
       "      <td id=\"T_88412_row0_col6\" class=\"data row0 col6\" >-0.01</td>\n",
       "      <td id=\"T_88412_row0_col7\" class=\"data row0 col7\" >-0.03</td>\n",
       "    </tr>\n",
       "    <tr>\n",
       "      <th id=\"T_88412_level0_row1\" class=\"row_heading level0 row1\" >x1_transaction_date</th>\n",
       "      <td id=\"T_88412_row1_col0\" class=\"data row1 col0\" >-0.06</td>\n",
       "      <td id=\"T_88412_row1_col1\" class=\"data row1 col1\" >1.00</td>\n",
       "      <td id=\"T_88412_row1_col2\" class=\"data row1 col2\" >0.02</td>\n",
       "      <td id=\"T_88412_row1_col3\" class=\"data row1 col3\" >0.06</td>\n",
       "      <td id=\"T_88412_row1_col4\" class=\"data row1 col4\" >0.01</td>\n",
       "      <td id=\"T_88412_row1_col5\" class=\"data row1 col5\" >0.03</td>\n",
       "      <td id=\"T_88412_row1_col6\" class=\"data row1 col6\" >-0.04</td>\n",
       "      <td id=\"T_88412_row1_col7\" class=\"data row1 col7\" >0.09</td>\n",
       "    </tr>\n",
       "    <tr>\n",
       "      <th id=\"T_88412_level0_row2\" class=\"row_heading level0 row2\" >x2_house_age_(years)</th>\n",
       "      <td id=\"T_88412_row2_col0\" class=\"data row2 col0\" >-0.03</td>\n",
       "      <td id=\"T_88412_row2_col1\" class=\"data row2 col1\" >0.02</td>\n",
       "      <td id=\"T_88412_row2_col2\" class=\"data row2 col2\" >1.00</td>\n",
       "      <td id=\"T_88412_row2_col3\" class=\"data row2 col3\" >0.03</td>\n",
       "      <td id=\"T_88412_row2_col4\" class=\"data row2 col4\" >0.05</td>\n",
       "      <td id=\"T_88412_row2_col5\" class=\"data row2 col5\" >0.05</td>\n",
       "      <td id=\"T_88412_row2_col6\" class=\"data row2 col6\" >-0.05</td>\n",
       "      <td id=\"T_88412_row2_col7\" class=\"data row2 col7\" >-0.21</td>\n",
       "    </tr>\n",
       "    <tr>\n",
       "      <th id=\"T_88412_level0_row3\" class=\"row_heading level0 row3\" >x3_nearest_mrt_station_(meters)</th>\n",
       "      <td id=\"T_88412_row3_col0\" class=\"data row3 col0\" >-0.01</td>\n",
       "      <td id=\"T_88412_row3_col1\" class=\"data row3 col1\" >0.06</td>\n",
       "      <td id=\"T_88412_row3_col2\" class=\"data row3 col2\" >0.03</td>\n",
       "      <td id=\"T_88412_row3_col3\" class=\"data row3 col3\" >1.00</td>\n",
       "      <td id=\"T_88412_row3_col4\" class=\"data row3 col4\" >-0.60</td>\n",
       "      <td id=\"T_88412_row3_col5\" class=\"data row3 col5\" >-0.59</td>\n",
       "      <td id=\"T_88412_row3_col6\" class=\"data row3 col6\" >-0.81</td>\n",
       "      <td id=\"T_88412_row3_col7\" class=\"data row3 col7\" >-0.67</td>\n",
       "    </tr>\n",
       "    <tr>\n",
       "      <th id=\"T_88412_level0_row4\" class=\"row_heading level0 row4\" >x4_number_of_convenience_stores</th>\n",
       "      <td id=\"T_88412_row4_col0\" class=\"data row4 col0\" >-0.01</td>\n",
       "      <td id=\"T_88412_row4_col1\" class=\"data row4 col1\" >0.01</td>\n",
       "      <td id=\"T_88412_row4_col2\" class=\"data row4 col2\" >0.05</td>\n",
       "      <td id=\"T_88412_row4_col3\" class=\"data row4 col3\" >-0.60</td>\n",
       "      <td id=\"T_88412_row4_col4\" class=\"data row4 col4\" >1.00</td>\n",
       "      <td id=\"T_88412_row4_col5\" class=\"data row4 col5\" >0.44</td>\n",
       "      <td id=\"T_88412_row4_col6\" class=\"data row4 col6\" >0.45</td>\n",
       "      <td id=\"T_88412_row4_col7\" class=\"data row4 col7\" >0.57</td>\n",
       "    </tr>\n",
       "    <tr>\n",
       "      <th id=\"T_88412_level0_row5\" class=\"row_heading level0 row5\" >x5_latitude</th>\n",
       "      <td id=\"T_88412_row5_col0\" class=\"data row5 col0\" >-0.01</td>\n",
       "      <td id=\"T_88412_row5_col1\" class=\"data row5 col1\" >0.03</td>\n",
       "      <td id=\"T_88412_row5_col2\" class=\"data row5 col2\" >0.05</td>\n",
       "      <td id=\"T_88412_row5_col3\" class=\"data row5 col3\" >-0.59</td>\n",
       "      <td id=\"T_88412_row5_col4\" class=\"data row5 col4\" >0.44</td>\n",
       "      <td id=\"T_88412_row5_col5\" class=\"data row5 col5\" >1.00</td>\n",
       "      <td id=\"T_88412_row5_col6\" class=\"data row5 col6\" >0.41</td>\n",
       "      <td id=\"T_88412_row5_col7\" class=\"data row5 col7\" >0.55</td>\n",
       "    </tr>\n",
       "    <tr>\n",
       "      <th id=\"T_88412_level0_row6\" class=\"row_heading level0 row6\" >x6_longitude</th>\n",
       "      <td id=\"T_88412_row6_col0\" class=\"data row6 col0\" >-0.01</td>\n",
       "      <td id=\"T_88412_row6_col1\" class=\"data row6 col1\" >-0.04</td>\n",
       "      <td id=\"T_88412_row6_col2\" class=\"data row6 col2\" >-0.05</td>\n",
       "      <td id=\"T_88412_row6_col3\" class=\"data row6 col3\" >-0.81</td>\n",
       "      <td id=\"T_88412_row6_col4\" class=\"data row6 col4\" >0.45</td>\n",
       "      <td id=\"T_88412_row6_col5\" class=\"data row6 col5\" >0.41</td>\n",
       "      <td id=\"T_88412_row6_col6\" class=\"data row6 col6\" >1.00</td>\n",
       "      <td id=\"T_88412_row6_col7\" class=\"data row6 col7\" >0.52</td>\n",
       "    </tr>\n",
       "    <tr>\n",
       "      <th id=\"T_88412_level0_row7\" class=\"row_heading level0 row7\" >y_house_price_of_unit_area</th>\n",
       "      <td id=\"T_88412_row7_col0\" class=\"data row7 col0\" >-0.03</td>\n",
       "      <td id=\"T_88412_row7_col1\" class=\"data row7 col1\" >0.09</td>\n",
       "      <td id=\"T_88412_row7_col2\" class=\"data row7 col2\" >-0.21</td>\n",
       "      <td id=\"T_88412_row7_col3\" class=\"data row7 col3\" >-0.67</td>\n",
       "      <td id=\"T_88412_row7_col4\" class=\"data row7 col4\" >0.57</td>\n",
       "      <td id=\"T_88412_row7_col5\" class=\"data row7 col5\" >0.55</td>\n",
       "      <td id=\"T_88412_row7_col6\" class=\"data row7 col6\" >0.52</td>\n",
       "      <td id=\"T_88412_row7_col7\" class=\"data row7 col7\" >1.00</td>\n",
       "    </tr>\n",
       "  </tbody>\n",
       "</table>\n"
      ],
      "text/plain": [
       "<pandas.io.formats.style.Styler at 0x28669c5ce48>"
      ]
     },
     "execution_count": 14,
     "metadata": {},
     "output_type": "execute_result"
    }
   ],
   "source": [
    "klib.corr_mat(data)"
   ]
  },
  {
   "cell_type": "code",
   "execution_count": 27,
   "metadata": {},
   "outputs": [],
   "source": [
    "y = data['y_house_price_of_unit_area']\n",
    "\n",
    "x = data[['x1_transaction_date','x2_house_age_(years)','x3_nearest_mrt_station_(meters)','x4_number_of_convenience_stores','x5_latitude','x6_longitude']]"
   ]
  },
  {
   "cell_type": "code",
   "execution_count": 28,
   "metadata": {},
   "outputs": [
    {
     "data": {
      "text/html": [
       "<table class=\"simpletable\">\n",
       "<caption>OLS Regression Results</caption>\n",
       "<tr>\n",
       "  <th>Dep. Variable:</th>    <td>y_house_price_of_unit_area</td> <th>  R-squared:         </th> <td>   0.583</td>\n",
       "</tr>\n",
       "<tr>\n",
       "  <th>Model:</th>                        <td>OLS</td>            <th>  Adj. R-squared:    </th> <td>   0.577</td>\n",
       "</tr>\n",
       "<tr>\n",
       "  <th>Method:</th>                  <td>Least Squares</td>       <th>  F-statistic:       </th> <td>   94.76</td>\n",
       "</tr>\n",
       "<tr>\n",
       "  <th>Date:</th>                  <td>Wed, 20 Oct 2021</td>      <th>  Prob (F-statistic):</th> <td>3.96e-74</td>\n",
       "</tr>\n",
       "<tr>\n",
       "  <th>Time:</th>                      <td>20:53:10</td>          <th>  Log-Likelihood:    </th> <td> -1486.8</td>\n",
       "</tr>\n",
       "<tr>\n",
       "  <th>No. Observations:</th>           <td>   414</td>           <th>  AIC:               </th> <td>   2988.</td>\n",
       "</tr>\n",
       "<tr>\n",
       "  <th>Df Residuals:</th>               <td>   407</td>           <th>  BIC:               </th> <td>   3016.</td>\n",
       "</tr>\n",
       "<tr>\n",
       "  <th>Df Model:</th>                   <td>     6</td>           <th>                     </th>     <td> </td>   \n",
       "</tr>\n",
       "<tr>\n",
       "  <th>Covariance Type:</th>           <td>nonrobust</td>         <th>                     </th>     <td> </td>   \n",
       "</tr>\n",
       "</table>\n",
       "<table class=\"simpletable\">\n",
       "<tr>\n",
       "    <td></td>       <th>coef</th>     <th>std err</th>      <th>t</th>      <th>P>|t|</th>  <th>[0.025</th>    <th>0.975]</th>  \n",
       "</tr>\n",
       "<tr>\n",
       "  <th>const</th> <td>-1.486e+04</td> <td> 6802.818</td> <td>   -2.184</td> <td> 0.030</td> <td>-2.82e+04</td> <td>-1484.678</td>\n",
       "</tr>\n",
       "<tr>\n",
       "  <th>x1</th>    <td>    5.3858</td> <td>    1.599</td> <td>    3.369</td> <td> 0.001</td> <td>    2.243</td> <td>    8.528</td>\n",
       "</tr>\n",
       "<tr>\n",
       "  <th>x2</th>    <td>   -0.2707</td> <td>    0.039</td> <td>   -7.028</td> <td> 0.000</td> <td>   -0.346</td> <td>   -0.195</td>\n",
       "</tr>\n",
       "<tr>\n",
       "  <th>x3</th>    <td>   -0.0045</td> <td>    0.001</td> <td>   -6.265</td> <td> 0.000</td> <td>   -0.006</td> <td>   -0.003</td>\n",
       "</tr>\n",
       "<tr>\n",
       "  <th>x4</th>    <td>    1.1318</td> <td>    0.188</td> <td>    6.018</td> <td> 0.000</td> <td>    0.762</td> <td>    1.502</td>\n",
       "</tr>\n",
       "<tr>\n",
       "  <th>x5</th>    <td>  225.6838</td> <td>   44.533</td> <td>    5.068</td> <td> 0.000</td> <td>  138.140</td> <td>  313.228</td>\n",
       "</tr>\n",
       "<tr>\n",
       "  <th>x6</th>    <td>  -12.9732</td> <td>   48.561</td> <td>   -0.267</td> <td> 0.789</td> <td> -108.436</td> <td>   82.489</td>\n",
       "</tr>\n",
       "</table>\n",
       "<table class=\"simpletable\">\n",
       "<tr>\n",
       "  <th>Omnibus:</th>       <td>232.835</td> <th>  Durbin-Watson:     </th> <td>   2.152</td>\n",
       "</tr>\n",
       "<tr>\n",
       "  <th>Prob(Omnibus):</th> <td> 0.000</td>  <th>  Jarque-Bera (JB):  </th> <td>3647.561</td>\n",
       "</tr>\n",
       "<tr>\n",
       "  <th>Skew:</th>          <td> 2.038</td>  <th>  Prob(JB):          </th> <td>    0.00</td>\n",
       "</tr>\n",
       "<tr>\n",
       "  <th>Kurtosis:</th>      <td>16.959</td>  <th>  Cond. No.          </th> <td>3.73e+07</td>\n",
       "</tr>\n",
       "</table><br/><br/>Warnings:<br/>[1] Standard Errors assume that the covariance matrix of the errors is correctly specified.<br/>[2] The condition number is large, 3.73e+07. This might indicate that there are<br/>strong multicollinearity or other numerical problems."
      ],
      "text/plain": [
       "<class 'statsmodels.iolib.summary.Summary'>\n",
       "\"\"\"\n",
       "                                OLS Regression Results                                \n",
       "======================================================================================\n",
       "Dep. Variable:     y_house_price_of_unit_area   R-squared:                       0.583\n",
       "Model:                                    OLS   Adj. R-squared:                  0.577\n",
       "Method:                         Least Squares   F-statistic:                     94.76\n",
       "Date:                        Wed, 20 Oct 2021   Prob (F-statistic):           3.96e-74\n",
       "Time:                                20:53:10   Log-Likelihood:                -1486.8\n",
       "No. Observations:                         414   AIC:                             2988.\n",
       "Df Residuals:                             407   BIC:                             3016.\n",
       "Df Model:                                   6                                         \n",
       "Covariance Type:                    nonrobust                                         \n",
       "==============================================================================\n",
       "                 coef    std err          t      P>|t|      [0.025      0.975]\n",
       "------------------------------------------------------------------------------\n",
       "const      -1.486e+04   6802.818     -2.184      0.030   -2.82e+04   -1484.678\n",
       "x1             5.3858      1.599      3.369      0.001       2.243       8.528\n",
       "x2            -0.2707      0.039     -7.028      0.000      -0.346      -0.195\n",
       "x3            -0.0045      0.001     -6.265      0.000      -0.006      -0.003\n",
       "x4             1.1318      0.188      6.018      0.000       0.762       1.502\n",
       "x5           225.6838     44.533      5.068      0.000     138.140     313.228\n",
       "x6           -12.9732     48.561     -0.267      0.789    -108.436      82.489\n",
       "==============================================================================\n",
       "Omnibus:                      232.835   Durbin-Watson:                   2.152\n",
       "Prob(Omnibus):                  0.000   Jarque-Bera (JB):             3647.561\n",
       "Skew:                           2.038   Prob(JB):                         0.00\n",
       "Kurtosis:                      16.959   Cond. No.                     3.73e+07\n",
       "==============================================================================\n",
       "\n",
       "Warnings:\n",
       "[1] Standard Errors assume that the covariance matrix of the errors is correctly specified.\n",
       "[2] The condition number is large, 3.73e+07. This might indicate that there are\n",
       "strong multicollinearity or other numerical problems.\n",
       "\"\"\""
      ]
     },
     "execution_count": 28,
     "metadata": {},
     "output_type": "execute_result"
    }
   ],
   "source": [
    "x = sm.add_constant(x.values)\n",
    "results = sm.OLS(y,x).fit()\n",
    "results.summary()"
   ]
  },
  {
   "cell_type": "markdown",
   "metadata": {},
   "source": [
    "## Ploting the variables: 'y_house_price_of_unit_area' and 'x1_transaction_date'"
   ]
  },
  {
   "cell_type": "code",
   "execution_count": 29,
   "metadata": {},
   "outputs": [],
   "source": [
    "y = data['y_house_price_of_unit_area']\n",
    "x1 = data['x1_transaction_date']"
   ]
  },
  {
   "cell_type": "code",
   "execution_count": 30,
   "metadata": {},
   "outputs": [
    {
     "data": {
      "text/html": [
       "<table class=\"simpletable\">\n",
       "<caption>OLS Regression Results</caption>\n",
       "<tr>\n",
       "  <th>Dep. Variable:</th>    <td>y_house_price_of_unit_area</td> <th>  R-squared:         </th> <td>   0.007</td>\n",
       "</tr>\n",
       "<tr>\n",
       "  <th>Model:</th>                        <td>OLS</td>            <th>  Adj. R-squared:    </th> <td>   0.005</td>\n",
       "</tr>\n",
       "<tr>\n",
       "  <th>Method:</th>                  <td>Least Squares</td>       <th>  F-statistic:       </th> <td>   3.110</td>\n",
       "</tr>\n",
       "<tr>\n",
       "  <th>Date:</th>                  <td>Wed, 20 Oct 2021</td>      <th>  Prob (F-statistic):</th>  <td>0.0786</td> \n",
       "</tr>\n",
       "<tr>\n",
       "  <th>Time:</th>                      <td>20:53:16</td>          <th>  Log-Likelihood:    </th> <td> -1666.1</td>\n",
       "</tr>\n",
       "<tr>\n",
       "  <th>No. Observations:</th>           <td>   414</td>           <th>  AIC:               </th> <td>   3336.</td>\n",
       "</tr>\n",
       "<tr>\n",
       "  <th>Df Residuals:</th>               <td>   412</td>           <th>  BIC:               </th> <td>   3344.</td>\n",
       "</tr>\n",
       "<tr>\n",
       "  <th>Df Model:</th>                   <td>     1</td>           <th>                     </th>     <td> </td>   \n",
       "</tr>\n",
       "<tr>\n",
       "  <th>Covariance Type:</th>           <td>nonrobust</td>         <th>                     </th>     <td> </td>   \n",
       "</tr>\n",
       "</table>\n",
       "<table class=\"simpletable\">\n",
       "<tr>\n",
       "    <td></td>       <th>coef</th>     <th>std err</th>      <th>t</th>      <th>P>|t|</th>  <th>[0.025</th>    <th>0.975]</th>  \n",
       "</tr>\n",
       "<tr>\n",
       "  <th>const</th> <td>-8597.2955</td> <td> 4896.876</td> <td>   -1.756</td> <td> 0.080</td> <td>-1.82e+04</td> <td> 1028.683</td>\n",
       "</tr>\n",
       "<tr>\n",
       "  <th>x1</th>    <td>    4.2894</td> <td>    2.432</td> <td>    1.763</td> <td> 0.079</td> <td>   -0.492</td> <td>    9.071</td>\n",
       "</tr>\n",
       "</table>\n",
       "<table class=\"simpletable\">\n",
       "<tr>\n",
       "  <th>Omnibus:</th>       <td>43.477</td> <th>  Durbin-Watson:     </th> <td>   1.945</td>\n",
       "</tr>\n",
       "<tr>\n",
       "  <th>Prob(Omnibus):</th> <td> 0.000</td> <th>  Jarque-Bera (JB):  </th> <td>  94.054</td>\n",
       "</tr>\n",
       "<tr>\n",
       "  <th>Skew:</th>          <td> 0.571</td> <th>  Prob(JB):          </th> <td>3.77e-21</td>\n",
       "</tr>\n",
       "<tr>\n",
       "  <th>Kurtosis:</th>      <td> 5.037</td> <th>  Cond. No.          </th> <td>1.48e+07</td>\n",
       "</tr>\n",
       "</table><br/><br/>Warnings:<br/>[1] Standard Errors assume that the covariance matrix of the errors is correctly specified.<br/>[2] The condition number is large, 1.48e+07. This might indicate that there are<br/>strong multicollinearity or other numerical problems."
      ],
      "text/plain": [
       "<class 'statsmodels.iolib.summary.Summary'>\n",
       "\"\"\"\n",
       "                                OLS Regression Results                                \n",
       "======================================================================================\n",
       "Dep. Variable:     y_house_price_of_unit_area   R-squared:                       0.007\n",
       "Model:                                    OLS   Adj. R-squared:                  0.005\n",
       "Method:                         Least Squares   F-statistic:                     3.110\n",
       "Date:                        Wed, 20 Oct 2021   Prob (F-statistic):             0.0786\n",
       "Time:                                20:53:16   Log-Likelihood:                -1666.1\n",
       "No. Observations:                         414   AIC:                             3336.\n",
       "Df Residuals:                             412   BIC:                             3344.\n",
       "Df Model:                                   1                                         \n",
       "Covariance Type:                    nonrobust                                         \n",
       "==============================================================================\n",
       "                 coef    std err          t      P>|t|      [0.025      0.975]\n",
       "------------------------------------------------------------------------------\n",
       "const      -8597.2955   4896.876     -1.756      0.080   -1.82e+04    1028.683\n",
       "x1             4.2894      2.432      1.763      0.079      -0.492       9.071\n",
       "==============================================================================\n",
       "Omnibus:                       43.477   Durbin-Watson:                   1.945\n",
       "Prob(Omnibus):                  0.000   Jarque-Bera (JB):               94.054\n",
       "Skew:                           0.571   Prob(JB):                     3.77e-21\n",
       "Kurtosis:                       5.037   Cond. No.                     1.48e+07\n",
       "==============================================================================\n",
       "\n",
       "Warnings:\n",
       "[1] Standard Errors assume that the covariance matrix of the errors is correctly specified.\n",
       "[2] The condition number is large, 1.48e+07. This might indicate that there are\n",
       "strong multicollinearity or other numerical problems.\n",
       "\"\"\""
      ]
     },
     "execution_count": 30,
     "metadata": {},
     "output_type": "execute_result"
    }
   ],
   "source": [
    "x = sm.add_constant(x1.values)\n",
    "results = sm.OLS(y,x).fit()\n",
    "results.summary()"
   ]
  },
  {
   "cell_type": "code",
   "execution_count": 38,
   "metadata": {},
   "outputs": [
    {
     "data": {
      "image/png": "[encoded data removed]",
      "text/plain": [
       "<Figure size 432x288 with 1 Axes>"
      ]
     },
     "metadata": {},
     "output_type": "display_data"
    }
   ],
   "source": [
    "plt.scatter(x1,y)\n",
    "yhat = 4.2894*x1+ -8597.2955   # Linear Regression Equation\n",
    "fig = plt.plot(x1,yhat,lw=3, c='green', label='Regression line')\n",
    "plt.xlabel('x1_transaction_date)',fontsize=15)\n",
    "plt.ylabel('y_house_price_of_unit_area',fontsize=15)\n",
    "plt.legend()\n",
    "plt.show()"
   ]
  },
  {
   "cell_type": "markdown",
   "metadata": {},
   "source": [
    "## Ploting the variables: 'y_house_price_of_unit_area' and 'x2_house_age_(years)'"
   ]
  },
  {
   "cell_type": "code",
   "execution_count": 39,
   "metadata": {},
   "outputs": [],
   "source": [
    "y = data['y_house_price_of_unit_area']\n",
    "x2 = data['x2_house_age_(years)']"
   ]
  },
  {
   "cell_type": "code",
   "execution_count": 40,
   "metadata": {},
   "outputs": [
    {
     "data": {
      "text/html": [
       "<table class=\"simpletable\">\n",
       "<caption>OLS Regression Results</caption>\n",
       "<tr>\n",
       "  <th>Dep. Variable:</th>    <td>y_house_price_of_unit_area</td> <th>  R-squared:         </th> <td>   0.044</td>\n",
       "</tr>\n",
       "<tr>\n",
       "  <th>Model:</th>                        <td>OLS</td>            <th>  Adj. R-squared:    </th> <td>   0.042</td>\n",
       "</tr>\n",
       "<tr>\n",
       "  <th>Method:</th>                  <td>Least Squares</td>       <th>  F-statistic:       </th> <td>   19.11</td>\n",
       "</tr>\n",
       "<tr>\n",
       "  <th>Date:</th>                  <td>Wed, 20 Oct 2021</td>      <th>  Prob (F-statistic):</th> <td>1.56e-05</td>\n",
       "</tr>\n",
       "<tr>\n",
       "  <th>Time:</th>                      <td>21:03:21</td>          <th>  Log-Likelihood:    </th> <td> -1658.3</td>\n",
       "</tr>\n",
       "<tr>\n",
       "  <th>No. Observations:</th>           <td>   414</td>           <th>  AIC:               </th> <td>   3321.</td>\n",
       "</tr>\n",
       "<tr>\n",
       "  <th>Df Residuals:</th>               <td>   412</td>           <th>  BIC:               </th> <td>   3329.</td>\n",
       "</tr>\n",
       "<tr>\n",
       "  <th>Df Model:</th>                   <td>     1</td>           <th>                     </th>     <td> </td>   \n",
       "</tr>\n",
       "<tr>\n",
       "  <th>Covariance Type:</th>           <td>nonrobust</td>         <th>                     </th>     <td> </td>   \n",
       "</tr>\n",
       "</table>\n",
       "<table class=\"simpletable\">\n",
       "<tr>\n",
       "    <td></td>       <th>coef</th>     <th>std err</th>      <th>t</th>      <th>P>|t|</th>  <th>[0.025</th>    <th>0.975]</th>  \n",
       "</tr>\n",
       "<tr>\n",
       "  <th>const</th> <td>   42.4347</td> <td>    1.211</td> <td>   35.042</td> <td> 0.000</td> <td>   40.054</td> <td>   44.815</td>\n",
       "</tr>\n",
       "<tr>\n",
       "  <th>x1</th>    <td>   -0.2515</td> <td>    0.058</td> <td>   -4.372</td> <td> 0.000</td> <td>   -0.365</td> <td>   -0.138</td>\n",
       "</tr>\n",
       "</table>\n",
       "<table class=\"simpletable\">\n",
       "<tr>\n",
       "  <th>Omnibus:</th>       <td>48.404</td> <th>  Durbin-Watson:     </th> <td>   1.957</td>\n",
       "</tr>\n",
       "<tr>\n",
       "  <th>Prob(Omnibus):</th> <td> 0.000</td> <th>  Jarque-Bera (JB):  </th> <td> 119.054</td>\n",
       "</tr>\n",
       "<tr>\n",
       "  <th>Skew:</th>          <td> 0.589</td> <th>  Prob(JB):          </th> <td>1.40e-26</td>\n",
       "</tr>\n",
       "<tr>\n",
       "  <th>Kurtosis:</th>      <td> 5.348</td> <th>  Cond. No.          </th> <td>    39.0</td>\n",
       "</tr>\n",
       "</table><br/><br/>Warnings:<br/>[1] Standard Errors assume that the covariance matrix of the errors is correctly specified."
      ],
      "text/plain": [
       "<class 'statsmodels.iolib.summary.Summary'>\n",
       "\"\"\"\n",
       "                                OLS Regression Results                                \n",
       "======================================================================================\n",
       "Dep. Variable:     y_house_price_of_unit_area   R-squared:                       0.044\n",
       "Model:                                    OLS   Adj. R-squared:                  0.042\n",
       "Method:                         Least Squares   F-statistic:                     19.11\n",
       "Date:                        Wed, 20 Oct 2021   Prob (F-statistic):           1.56e-05\n",
       "Time:                                21:03:21   Log-Likelihood:                -1658.3\n",
       "No. Observations:                         414   AIC:                             3321.\n",
       "Df Residuals:                             412   BIC:                             3329.\n",
       "Df Model:                                   1                                         \n",
       "Covariance Type:                    nonrobust                                         \n",
       "==============================================================================\n",
       "                 coef    std err          t      P>|t|      [0.025      0.975]\n",
       "------------------------------------------------------------------------------\n",
       "const         42.4347      1.211     35.042      0.000      40.054      44.815\n",
       "x1            -0.2515      0.058     -4.372      0.000      -0.365      -0.138\n",
       "==============================================================================\n",
       "Omnibus:                       48.404   Durbin-Watson:                   1.957\n",
       "Prob(Omnibus):                  0.000   Jarque-Bera (JB):              119.054\n",
       "Skew:                           0.589   Prob(JB):                     1.40e-26\n",
       "Kurtosis:                       5.348   Cond. No.                         39.0\n",
       "==============================================================================\n",
       "\n",
       "Warnings:\n",
       "[1] Standard Errors assume that the covariance matrix of the errors is correctly specified.\n",
       "\"\"\""
      ]
     },
     "execution_count": 40,
     "metadata": {},
     "output_type": "execute_result"
    }
   ],
   "source": [
    "x = sm.add_constant(x2.values)\n",
    "results = sm.OLS(y,x).fit()\n",
    "results.summary()"
   ]
  },
  {
   "cell_type": "code",
   "execution_count": 41,
   "metadata": {},
   "outputs": [
    {
     "data": {
      "image/png": "[encoded data removed]",
      "text/plain": [
       "<Figure size 432x288 with 1 Axes>"
      ]
     },
     "metadata": {},
     "output_type": "display_data"
    }
   ],
   "source": [
    "plt.scatter(x2,y)\n",
    "yhat = -0.2515*x2 + 42.4347   # Linear Regression Equation \n",
    "fig = plt.plot(x2,yhat, lw=3, c='red', label='Regression line')\n",
    "plt.xlabel('x2_house_age_(years)',fontsize=15)\n",
    "plt.ylabel('y_house_price_of_unit_area',fontsize=15)\n",
    "plt.legend()\n",
    "plt.show()"
   ]
  },
  {
   "cell_type": "markdown",
   "metadata": {},
   "source": [
    "## Ploting the variables: 'y_house_price_of_unit_area' and 'x3_nearest_mrt_station_(meters)'"
   ]
  },
  {
   "cell_type": "code",
   "execution_count": 42,
   "metadata": {},
   "outputs": [],
   "source": [
    "y = data['y_house_price_of_unit_area']\n",
    "x3 = data['x3_nearest_mrt_station_(meters)']"
   ]
  },
  {
   "cell_type": "code",
   "execution_count": 43,
   "metadata": {},
   "outputs": [
    {
     "data": {
      "text/html": [
       "<table class=\"simpletable\">\n",
       "<caption>OLS Regression Results</caption>\n",
       "<tr>\n",
       "  <th>Dep. Variable:</th>    <td>y_house_price_of_unit_area</td> <th>  R-squared:         </th> <td>   0.454</td>\n",
       "</tr>\n",
       "<tr>\n",
       "  <th>Model:</th>                        <td>OLS</td>            <th>  Adj. R-squared:    </th> <td>   0.452</td>\n",
       "</tr>\n",
       "<tr>\n",
       "  <th>Method:</th>                  <td>Least Squares</td>       <th>  F-statistic:       </th> <td>   342.2</td>\n",
       "</tr>\n",
       "<tr>\n",
       "  <th>Date:</th>                  <td>Wed, 20 Oct 2021</td>      <th>  Prob (F-statistic):</th> <td>4.65e-56</td>\n",
       "</tr>\n",
       "<tr>\n",
       "  <th>Time:</th>                      <td>21:19:25</td>          <th>  Log-Likelihood:    </th> <td> -1542.5</td>\n",
       "</tr>\n",
       "<tr>\n",
       "  <th>No. Observations:</th>           <td>   414</td>           <th>  AIC:               </th> <td>   3089.</td>\n",
       "</tr>\n",
       "<tr>\n",
       "  <th>Df Residuals:</th>               <td>   412</td>           <th>  BIC:               </th> <td>   3097.</td>\n",
       "</tr>\n",
       "<tr>\n",
       "  <th>Df Model:</th>                   <td>     1</td>           <th>                     </th>     <td> </td>   \n",
       "</tr>\n",
       "<tr>\n",
       "  <th>Covariance Type:</th>           <td>nonrobust</td>         <th>                     </th>     <td> </td>   \n",
       "</tr>\n",
       "</table>\n",
       "<table class=\"simpletable\">\n",
       "<tr>\n",
       "    <td></td>       <th>coef</th>     <th>std err</th>      <th>t</th>      <th>P>|t|</th>  <th>[0.025</th>    <th>0.975]</th>  \n",
       "</tr>\n",
       "<tr>\n",
       "  <th>const</th> <td>   45.8514</td> <td>    0.653</td> <td>   70.258</td> <td> 0.000</td> <td>   44.569</td> <td>   47.134</td>\n",
       "</tr>\n",
       "<tr>\n",
       "  <th>x1</th>    <td>   -0.0073</td> <td>    0.000</td> <td>  -18.500</td> <td> 0.000</td> <td>   -0.008</td> <td>   -0.006</td>\n",
       "</tr>\n",
       "</table>\n",
       "<table class=\"simpletable\">\n",
       "<tr>\n",
       "  <th>Omnibus:</th>       <td>140.819</td> <th>  Durbin-Watson:     </th> <td>   2.151</td> \n",
       "</tr>\n",
       "<tr>\n",
       "  <th>Prob(Omnibus):</th> <td> 0.000</td>  <th>  Jarque-Bera (JB):  </th> <td> 988.263</td> \n",
       "</tr>\n",
       "<tr>\n",
       "  <th>Skew:</th>          <td> 1.263</td>  <th>  Prob(JB):          </th> <td>2.52e-215</td>\n",
       "</tr>\n",
       "<tr>\n",
       "  <th>Kurtosis:</th>      <td>10.135</td>  <th>  Cond. No.          </th> <td>2.19e+03</td> \n",
       "</tr>\n",
       "</table><br/><br/>Warnings:<br/>[1] Standard Errors assume that the covariance matrix of the errors is correctly specified.<br/>[2] The condition number is large, 2.19e+03. This might indicate that there are<br/>strong multicollinearity or other numerical problems."
      ],
      "text/plain": [
       "<class 'statsmodels.iolib.summary.Summary'>\n",
       "\"\"\"\n",
       "                                OLS Regression Results                                \n",
       "======================================================================================\n",
       "Dep. Variable:     y_house_price_of_unit_area   R-squared:                       0.454\n",
       "Model:                                    OLS   Adj. R-squared:                  0.452\n",
       "Method:                         Least Squares   F-statistic:                     342.2\n",
       "Date:                        Wed, 20 Oct 2021   Prob (F-statistic):           4.65e-56\n",
       "Time:                                21:19:25   Log-Likelihood:                -1542.5\n",
       "No. Observations:                         414   AIC:                             3089.\n",
       "Df Residuals:                             412   BIC:                             3097.\n",
       "Df Model:                                   1                                         \n",
       "Covariance Type:                    nonrobust                                         \n",
       "==============================================================================\n",
       "                 coef    std err          t      P>|t|      [0.025      0.975]\n",
       "------------------------------------------------------------------------------\n",
       "const         45.8514      0.653     70.258      0.000      44.569      47.134\n",
       "x1            -0.0073      0.000    -18.500      0.000      -0.008      -0.006\n",
       "==============================================================================\n",
       "Omnibus:                      140.819   Durbin-Watson:                   2.151\n",
       "Prob(Omnibus):                  0.000   Jarque-Bera (JB):              988.263\n",
       "Skew:                           1.263   Prob(JB):                    2.52e-215\n",
       "Kurtosis:                      10.135   Cond. No.                     2.19e+03\n",
       "==============================================================================\n",
       "\n",
       "Warnings:\n",
       "[1] Standard Errors assume that the covariance matrix of the errors is correctly specified.\n",
       "[2] The condition number is large, 2.19e+03. This might indicate that there are\n",
       "strong multicollinearity or other numerical problems.\n",
       "\"\"\""
      ]
     },
     "execution_count": 43,
     "metadata": {},
     "output_type": "execute_result"
    }
   ],
   "source": [
    "x = sm.add_constant(x3.values)\n",
    "results = sm.OLS(y,x).fit()\n",
    "results.summary()"
   ]
  },
  {
   "cell_type": "code",
   "execution_count": 51,
   "metadata": {},
   "outputs": [
    {
     "data": {
      "image/png": "[encoded data removed]",
      "text/plain": [
       "<Figure size 432x288 with 1 Axes>"
      ]
     },
     "metadata": {},
     "output_type": "display_data"
    }
   ],
   "source": [
    "plt.scatter(x3,y)\n",
    "yhat = -0.0073*x3 + 45.8514   # Linear Regression Equation\n",
    "fig = plt.plot(x3,yhat, lw=3, c='tan', label='Regression line')\n",
    "plt.xlabel('x3_nearest_mrt_station_(meters)',fontsize=15)\n",
    "plt.ylabel('y_house_price_of_unit_area',fontsize=15)\n",
    "plt.legend()\n",
    "plt.show()"
   ]
  },
  {
   "cell_type": "markdown",
   "metadata": {},
   "source": [
    "## Ploting the variables: 'y_house_price_of_unit_area' and 'x4_number_of_convenience_stores'"
   ]
  },
  {
   "cell_type": "code",
   "execution_count": 46,
   "metadata": {},
   "outputs": [],
   "source": [
    "y = data['y_house_price_of_unit_area']\n",
    "x4 = data['x4_number_of_convenience_stores']"
   ]
  },
  {
   "cell_type": "code",
   "execution_count": 47,
   "metadata": {},
   "outputs": [
    {
     "data": {
      "text/html": [
       "<table class=\"simpletable\">\n",
       "<caption>OLS Regression Results</caption>\n",
       "<tr>\n",
       "  <th>Dep. Variable:</th>    <td>y_house_price_of_unit_area</td> <th>  R-squared:         </th> <td>   0.326</td>\n",
       "</tr>\n",
       "<tr>\n",
       "  <th>Model:</th>                        <td>OLS</td>            <th>  Adj. R-squared:    </th> <td>   0.324</td>\n",
       "</tr>\n",
       "<tr>\n",
       "  <th>Method:</th>                  <td>Least Squares</td>       <th>  F-statistic:       </th> <td>   199.3</td>\n",
       "</tr>\n",
       "<tr>\n",
       "  <th>Date:</th>                  <td>Wed, 20 Oct 2021</td>      <th>  Prob (F-statistic):</th> <td>3.41e-37</td>\n",
       "</tr>\n",
       "<tr>\n",
       "  <th>Time:</th>                      <td>21:30:44</td>          <th>  Log-Likelihood:    </th> <td> -1586.0</td>\n",
       "</tr>\n",
       "<tr>\n",
       "  <th>No. Observations:</th>           <td>   414</td>           <th>  AIC:               </th> <td>   3176.</td>\n",
       "</tr>\n",
       "<tr>\n",
       "  <th>Df Residuals:</th>               <td>   412</td>           <th>  BIC:               </th> <td>   3184.</td>\n",
       "</tr>\n",
       "<tr>\n",
       "  <th>Df Model:</th>                   <td>     1</td>           <th>                     </th>     <td> </td>   \n",
       "</tr>\n",
       "<tr>\n",
       "  <th>Covariance Type:</th>           <td>nonrobust</td>         <th>                     </th>     <td> </td>   \n",
       "</tr>\n",
       "</table>\n",
       "<table class=\"simpletable\">\n",
       "<tr>\n",
       "    <td></td>       <th>coef</th>     <th>std err</th>      <th>t</th>      <th>P>|t|</th>  <th>[0.025</th>    <th>0.975]</th>  \n",
       "</tr>\n",
       "<tr>\n",
       "  <th>const</th> <td>   27.1811</td> <td>    0.942</td> <td>   28.857</td> <td> 0.000</td> <td>   25.330</td> <td>   29.033</td>\n",
       "</tr>\n",
       "<tr>\n",
       "  <th>x1</th>    <td>    2.6377</td> <td>    0.187</td> <td>   14.118</td> <td> 0.000</td> <td>    2.270</td> <td>    3.005</td>\n",
       "</tr>\n",
       "</table>\n",
       "<table class=\"simpletable\">\n",
       "<tr>\n",
       "  <th>Omnibus:</th>       <td>171.927</td> <th>  Durbin-Watson:     </th> <td>   1.993</td> \n",
       "</tr>\n",
       "<tr>\n",
       "  <th>Prob(Omnibus):</th> <td> 0.000</td>  <th>  Jarque-Bera (JB):  </th> <td>1417.242</td> \n",
       "</tr>\n",
       "<tr>\n",
       "  <th>Skew:</th>          <td> 1.553</td>  <th>  Prob(JB):          </th> <td>1.78e-308</td>\n",
       "</tr>\n",
       "<tr>\n",
       "  <th>Kurtosis:</th>      <td>11.516</td>  <th>  Cond. No.          </th> <td>    8.87</td> \n",
       "</tr>\n",
       "</table><br/><br/>Warnings:<br/>[1] Standard Errors assume that the covariance matrix of the errors is correctly specified."
      ],
      "text/plain": [
       "<class 'statsmodels.iolib.summary.Summary'>\n",
       "\"\"\"\n",
       "                                OLS Regression Results                                \n",
       "======================================================================================\n",
       "Dep. Variable:     y_house_price_of_unit_area   R-squared:                       0.326\n",
       "Model:                                    OLS   Adj. R-squared:                  0.324\n",
       "Method:                         Least Squares   F-statistic:                     199.3\n",
       "Date:                        Wed, 20 Oct 2021   Prob (F-statistic):           3.41e-37\n",
       "Time:                                21:30:44   Log-Likelihood:                -1586.0\n",
       "No. Observations:                         414   AIC:                             3176.\n",
       "Df Residuals:                             412   BIC:                             3184.\n",
       "Df Model:                                   1                                         \n",
       "Covariance Type:                    nonrobust                                         \n",
       "==============================================================================\n",
       "                 coef    std err          t      P>|t|      [0.025      0.975]\n",
       "------------------------------------------------------------------------------\n",
       "const         27.1811      0.942     28.857      0.000      25.330      29.033\n",
       "x1             2.6377      0.187     14.118      0.000       2.270       3.005\n",
       "==============================================================================\n",
       "Omnibus:                      171.927   Durbin-Watson:                   1.993\n",
       "Prob(Omnibus):                  0.000   Jarque-Bera (JB):             1417.242\n",
       "Skew:                           1.553   Prob(JB):                    1.78e-308\n",
       "Kurtosis:                      11.516   Cond. No.                         8.87\n",
       "==============================================================================\n",
       "\n",
       "Warnings:\n",
       "[1] Standard Errors assume that the covariance matrix of the errors is correctly specified.\n",
       "\"\"\""
      ]
     },
     "execution_count": 47,
     "metadata": {},
     "output_type": "execute_result"
    }
   ],
   "source": [
    "x = sm.add_constant(x4.values)\n",
    "results = sm.OLS(y,x).fit()\n",
    "results.summary()"
   ]
  },
  {
   "cell_type": "code",
   "execution_count": 48,
   "metadata": {},
   "outputs": [
    {
     "data": {
      "image/png": "[encoded data removed]",
      "text/plain": [
       "<Figure size 432x288 with 1 Axes>"
      ]
     },
     "metadata": {},
     "output_type": "display_data"
    }
   ],
   "source": [
    "plt.scatter(x4,y)\n",
    "yhat = 2.6377*x4 + 27.1811   # Linear Regression Equation\n",
    "fig = plt.plot(x4,yhat, lw=3, c='goldenrod', label='Regression line')\n",
    "plt.xlabel('x4_number_of_convenience_stores',fontsize=15)\n",
    "plt.ylabel('y_house_price_of_unit_area',fontsize=15)\n",
    "plt.legend()\n",
    "plt.show()"
   ]
  },
  {
   "cell_type": "markdown",
   "metadata": {},
   "source": [
    "## Ploting the variables: 'y_house_price_of_unit_area' and 'x5_latitude'"
   ]
  },
  {
   "cell_type": "code",
   "execution_count": 49,
   "metadata": {},
   "outputs": [],
   "source": [
    "y = data['y_house_price_of_unit_area']\n",
    "x5 = data['x5_latitude']"
   ]
  },
  {
   "cell_type": "code",
   "execution_count": 50,
   "metadata": {},
   "outputs": [
    {
     "data": {
      "text/html": [
       "<table class=\"simpletable\">\n",
       "<caption>OLS Regression Results</caption>\n",
       "<tr>\n",
       "  <th>Dep. Variable:</th>    <td>y_house_price_of_unit_area</td> <th>  R-squared:         </th> <td>   0.298</td>\n",
       "</tr>\n",
       "<tr>\n",
       "  <th>Model:</th>                        <td>OLS</td>            <th>  Adj. R-squared:    </th> <td>   0.297</td>\n",
       "</tr>\n",
       "<tr>\n",
       "  <th>Method:</th>                  <td>Least Squares</td>       <th>  F-statistic:       </th> <td>   175.3</td>\n",
       "</tr>\n",
       "<tr>\n",
       "  <th>Date:</th>                  <td>Wed, 20 Oct 2021</td>      <th>  Prob (F-statistic):</th> <td>1.39e-33</td>\n",
       "</tr>\n",
       "<tr>\n",
       "  <th>Time:</th>                      <td>21:39:16</td>          <th>  Log-Likelihood:    </th> <td> -1594.3</td>\n",
       "</tr>\n",
       "<tr>\n",
       "  <th>No. Observations:</th>           <td>   414</td>           <th>  AIC:               </th> <td>   3193.</td>\n",
       "</tr>\n",
       "<tr>\n",
       "  <th>Df Residuals:</th>               <td>   412</td>           <th>  BIC:               </th> <td>   3201.</td>\n",
       "</tr>\n",
       "<tr>\n",
       "  <th>Df Model:</th>                   <td>     1</td>           <th>                     </th>     <td> </td>   \n",
       "</tr>\n",
       "<tr>\n",
       "  <th>Covariance Type:</th>           <td>nonrobust</td>         <th>                     </th>     <td> </td>   \n",
       "</tr>\n",
       "</table>\n",
       "<table class=\"simpletable\">\n",
       "<tr>\n",
       "    <td></td>       <th>coef</th>     <th>std err</th>      <th>t</th>      <th>P>|t|</th>  <th>[0.025</th>    <th>0.975]</th>  \n",
       "</tr>\n",
       "<tr>\n",
       "  <th>const</th> <td>-1.492e+04</td> <td> 1129.665</td> <td>  -13.205</td> <td> 0.000</td> <td>-1.71e+04</td> <td>-1.27e+04</td>\n",
       "</tr>\n",
       "<tr>\n",
       "  <th>x1</th>    <td>  598.9683</td> <td>   45.243</td> <td>   13.239</td> <td> 0.000</td> <td>  510.033</td> <td>  687.904</td>\n",
       "</tr>\n",
       "</table>\n",
       "<table class=\"simpletable\">\n",
       "<tr>\n",
       "  <th>Omnibus:</th>       <td>116.094</td> <th>  Durbin-Watson:     </th> <td>   2.015</td> \n",
       "</tr>\n",
       "<tr>\n",
       "  <th>Prob(Omnibus):</th> <td> 0.000</td>  <th>  Jarque-Bera (JB):  </th> <td> 503.595</td> \n",
       "</tr>\n",
       "<tr>\n",
       "  <th>Skew:</th>          <td> 1.158</td>  <th>  Prob(JB):          </th> <td>4.42e-110</td>\n",
       "</tr>\n",
       "<tr>\n",
       "  <th>Kurtosis:</th>      <td> 7.881</td>  <th>  Cond. No.          </th> <td>5.04e+04</td> \n",
       "</tr>\n",
       "</table><br/><br/>Warnings:<br/>[1] Standard Errors assume that the covariance matrix of the errors is correctly specified.<br/>[2] The condition number is large, 5.04e+04. This might indicate that there are<br/>strong multicollinearity or other numerical problems."
      ],
      "text/plain": [
       "<class 'statsmodels.iolib.summary.Summary'>\n",
       "\"\"\"\n",
       "                                OLS Regression Results                                \n",
       "======================================================================================\n",
       "Dep. Variable:     y_house_price_of_unit_area   R-squared:                       0.298\n",
       "Model:                                    OLS   Adj. R-squared:                  0.297\n",
       "Method:                         Least Squares   F-statistic:                     175.3\n",
       "Date:                        Wed, 20 Oct 2021   Prob (F-statistic):           1.39e-33\n",
       "Time:                                21:39:16   Log-Likelihood:                -1594.3\n",
       "No. Observations:                         414   AIC:                             3193.\n",
       "Df Residuals:                             412   BIC:                             3201.\n",
       "Df Model:                                   1                                         \n",
       "Covariance Type:                    nonrobust                                         \n",
       "==============================================================================\n",
       "                 coef    std err          t      P>|t|      [0.025      0.975]\n",
       "------------------------------------------------------------------------------\n",
       "const      -1.492e+04   1129.665    -13.205      0.000   -1.71e+04   -1.27e+04\n",
       "x1           598.9683     45.243     13.239      0.000     510.033     687.904\n",
       "==============================================================================\n",
       "Omnibus:                      116.094   Durbin-Watson:                   2.015\n",
       "Prob(Omnibus):                  0.000   Jarque-Bera (JB):              503.595\n",
       "Skew:                           1.158   Prob(JB):                    4.42e-110\n",
       "Kurtosis:                       7.881   Cond. No.                     5.04e+04\n",
       "==============================================================================\n",
       "\n",
       "Warnings:\n",
       "[1] Standard Errors assume that the covariance matrix of the errors is correctly specified.\n",
       "[2] The condition number is large, 5.04e+04. This might indicate that there are\n",
       "strong multicollinearity or other numerical problems.\n",
       "\"\"\""
      ]
     },
     "execution_count": 50,
     "metadata": {},
     "output_type": "execute_result"
    }
   ],
   "source": [
    "x = sm.add_constant(x5.values)\n",
    "results = sm.OLS(y,x).fit()\n",
    "results.summary()"
   ]
  },
  {
   "cell_type": "code",
   "execution_count": 52,
   "metadata": {},
   "outputs": [
    {
     "data": {
      "image/png": "[encoded data removed]",
      "text/plain": [
       "<Figure size 432x288 with 1 Axes>"
      ]
     },
     "metadata": {},
     "output_type": "display_data"
    }
   ],
   "source": [
    "plt.scatter(x5,y)\n",
    "yhat = 598.9683*x5 + -1.492e+04   # Linear Regression Equation\n",
    "fig = plt.plot(x5,yhat, lw=3, c='darkturquoise', label='Regression line')\n",
    "plt.xlabel('x5_latitude',fontsize=15)\n",
    "plt.ylabel('y_house_price_of_unit_area',fontsize=15)\n",
    "plt.legend()\n",
    "plt.show()"
   ]
  },
  {
   "cell_type": "markdown",
   "metadata": {},
   "source": [
    "## Ploting the variables: 'y_house_price_of_unit_area' and 'x6_longitude'"
   ]
  },
  {
   "cell_type": "code",
   "execution_count": 53,
   "metadata": {},
   "outputs": [],
   "source": [
    "y = data['y_house_price_of_unit_area']\n",
    "x6 = data['x6_longitude']"
   ]
  },
  {
   "cell_type": "code",
   "execution_count": 54,
   "metadata": {},
   "outputs": [
    {
     "data": {
      "text/html": [
       "<table class=\"simpletable\">\n",
       "<caption>OLS Regression Results</caption>\n",
       "<tr>\n",
       "  <th>Dep. Variable:</th>    <td>y_house_price_of_unit_area</td> <th>  R-squared:         </th> <td>   0.274</td>\n",
       "</tr>\n",
       "<tr>\n",
       "  <th>Model:</th>                        <td>OLS</td>            <th>  Adj. R-squared:    </th> <td>   0.272</td>\n",
       "</tr>\n",
       "<tr>\n",
       "  <th>Method:</th>                  <td>Least Squares</td>       <th>  F-statistic:       </th> <td>   155.4</td>\n",
       "</tr>\n",
       "<tr>\n",
       "  <th>Date:</th>                  <td>Wed, 20 Oct 2021</td>      <th>  Prob (F-statistic):</th> <td>1.77e-30</td>\n",
       "</tr>\n",
       "<tr>\n",
       "  <th>Time:</th>                      <td>21:48:32</td>          <th>  Log-Likelihood:    </th> <td> -1601.5</td>\n",
       "</tr>\n",
       "<tr>\n",
       "  <th>No. Observations:</th>           <td>   414</td>           <th>  AIC:               </th> <td>   3207.</td>\n",
       "</tr>\n",
       "<tr>\n",
       "  <th>Df Residuals:</th>               <td>   412</td>           <th>  BIC:               </th> <td>   3215.</td>\n",
       "</tr>\n",
       "<tr>\n",
       "  <th>Df Model:</th>                   <td>     1</td>           <th>                     </th>     <td> </td>   \n",
       "</tr>\n",
       "<tr>\n",
       "  <th>Covariance Type:</th>           <td>nonrobust</td>         <th>                     </th>     <td> </td>   \n",
       "</tr>\n",
       "</table>\n",
       "<table class=\"simpletable\">\n",
       "<tr>\n",
       "    <td></td>       <th>coef</th>     <th>std err</th>      <th>t</th>      <th>P>|t|</th>  <th>[0.025</th>    <th>0.975]</th>  \n",
       "</tr>\n",
       "<tr>\n",
       "  <th>const</th> <td>-5.635e+04</td> <td> 4523.596</td> <td>  -12.456</td> <td> 0.000</td> <td>-6.52e+04</td> <td>-4.75e+04</td>\n",
       "</tr>\n",
       "<tr>\n",
       "  <th>x1</th>    <td>  463.9347</td> <td>   37.221</td> <td>   12.464</td> <td> 0.000</td> <td>  390.768</td> <td>  537.102</td>\n",
       "</tr>\n",
       "</table>\n",
       "<table class=\"simpletable\">\n",
       "<tr>\n",
       "  <th>Omnibus:</th>       <td>92.184</td> <th>  Durbin-Watson:     </th> <td>   2.106</td> \n",
       "</tr>\n",
       "<tr>\n",
       "  <th>Prob(Omnibus):</th> <td> 0.000</td> <th>  Jarque-Bera (JB):  </th> <td> 595.015</td> \n",
       "</tr>\n",
       "<tr>\n",
       "  <th>Skew:</th>          <td> 0.765</td> <th>  Prob(JB):          </th> <td>6.23e-130</td>\n",
       "</tr>\n",
       "<tr>\n",
       "  <th>Kurtosis:</th>      <td> 8.670</td> <th>  Cond. No.          </th> <td>9.64e+05</td> \n",
       "</tr>\n",
       "</table><br/><br/>Warnings:<br/>[1] Standard Errors assume that the covariance matrix of the errors is correctly specified.<br/>[2] The condition number is large, 9.64e+05. This might indicate that there are<br/>strong multicollinearity or other numerical problems."
      ],
      "text/plain": [
       "<class 'statsmodels.iolib.summary.Summary'>\n",
       "\"\"\"\n",
       "                                OLS Regression Results                                \n",
       "======================================================================================\n",
       "Dep. Variable:     y_house_price_of_unit_area   R-squared:                       0.274\n",
       "Model:                                    OLS   Adj. R-squared:                  0.272\n",
       "Method:                         Least Squares   F-statistic:                     155.4\n",
       "Date:                        Wed, 20 Oct 2021   Prob (F-statistic):           1.77e-30\n",
       "Time:                                21:48:32   Log-Likelihood:                -1601.5\n",
       "No. Observations:                         414   AIC:                             3207.\n",
       "Df Residuals:                             412   BIC:                             3215.\n",
       "Df Model:                                   1                                         \n",
       "Covariance Type:                    nonrobust                                         \n",
       "==============================================================================\n",
       "                 coef    std err          t      P>|t|      [0.025      0.975]\n",
       "------------------------------------------------------------------------------\n",
       "const      -5.635e+04   4523.596    -12.456      0.000   -6.52e+04   -4.75e+04\n",
       "x1           463.9347     37.221     12.464      0.000     390.768     537.102\n",
       "==============================================================================\n",
       "Omnibus:                       92.184   Durbin-Watson:                   2.106\n",
       "Prob(Omnibus):                  0.000   Jarque-Bera (JB):              595.015\n",
       "Skew:                           0.765   Prob(JB):                    6.23e-130\n",
       "Kurtosis:                       8.670   Cond. No.                     9.64e+05\n",
       "==============================================================================\n",
       "\n",
       "Warnings:\n",
       "[1] Standard Errors assume that the covariance matrix of the errors is correctly specified.\n",
       "[2] The condition number is large, 9.64e+05. This might indicate that there are\n",
       "strong multicollinearity or other numerical problems.\n",
       "\"\"\""
      ]
     },
     "execution_count": 54,
     "metadata": {},
     "output_type": "execute_result"
    }
   ],
   "source": [
    "x = sm.add_constant(x6.values)\n",
    "results = sm.OLS(y,x).fit()\n",
    "results.summary()"
   ]
  },
  {
   "cell_type": "code",
   "execution_count": 55,
   "metadata": {},
   "outputs": [
    {
     "data": {
      "image/png": "[encoded data removed]",
      "text/plain": [
       "<Figure size 432x288 with 1 Axes>"
      ]
     },
     "metadata": {},
     "output_type": "display_data"
    }
   ],
   "source": [
    "plt.scatter(x6,y)\n",
    "yhat = 463.9347*x6 + -5.635e+04  # Linear Regression Equation\n",
    "fig = plt.plot(x6,yhat, lw=3, c='mediumorchid', label='Regression line')\n",
    "plt.xlabel('x6_longitude',fontsize=15)\n",
    "plt.ylabel('y_house_price_of_unit_area',fontsize=15)\n",
    "plt.legend()\n",
    "plt.show()"
   ]
  },
  {
   "cell_type": "markdown",
   "metadata": {},
   "source": [
    "## Seeking the best linear equation"
   ]
  },
  {
   "cell_type": "code",
   "execution_count": 64,
   "metadata": {},
   "outputs": [],
   "source": [
    "y = data['y_house_price_of_unit_area']\n",
    "\n",
    "x7 = data[['x1_transaction_date','x2_house_age_(years)','x3_nearest_mrt_station_(meters)','x4_number_of_convenience_stores','x5_latitude']]"
   ]
  },
  {
   "cell_type": "code",
   "execution_count": 65,
   "metadata": {},
   "outputs": [
    {
     "data": {
      "text/html": [
       "<table class=\"simpletable\">\n",
       "<caption>OLS Regression Results</caption>\n",
       "<tr>\n",
       "  <th>Dep. Variable:</th>    <td>y_house_price_of_unit_area</td> <th>  R-squared:         </th> <td>   0.583</td>\n",
       "</tr>\n",
       "<tr>\n",
       "  <th>Model:</th>                        <td>OLS</td>            <th>  Adj. R-squared:    </th> <td>   0.578</td>\n",
       "</tr>\n",
       "<tr>\n",
       "  <th>Method:</th>                  <td>Least Squares</td>       <th>  F-statistic:       </th> <td>   114.0</td>\n",
       "</tr>\n",
       "<tr>\n",
       "  <th>Date:</th>                  <td>Wed, 20 Oct 2021</td>      <th>  Prob (F-statistic):</th> <td>3.65e-75</td>\n",
       "</tr>\n",
       "<tr>\n",
       "  <th>Time:</th>                      <td>21:57:36</td>          <th>  Log-Likelihood:    </th> <td> -1486.8</td>\n",
       "</tr>\n",
       "<tr>\n",
       "  <th>No. Observations:</th>           <td>   414</td>           <th>  AIC:               </th> <td>   2986.</td>\n",
       "</tr>\n",
       "<tr>\n",
       "  <th>Df Residuals:</th>               <td>   408</td>           <th>  BIC:               </th> <td>   3010.</td>\n",
       "</tr>\n",
       "<tr>\n",
       "  <th>Df Model:</th>                   <td>     5</td>           <th>                     </th>     <td> </td>   \n",
       "</tr>\n",
       "<tr>\n",
       "  <th>Covariance Type:</th>           <td>nonrobust</td>         <th>                     </th>     <td> </td>   \n",
       "</tr>\n",
       "</table>\n",
       "<table class=\"simpletable\">\n",
       "<tr>\n",
       "    <td></td>       <th>coef</th>     <th>std err</th>      <th>t</th>      <th>P>|t|</th>  <th>[0.025</th>    <th>0.975]</th>  \n",
       "</tr>\n",
       "<tr>\n",
       "  <th>const</th> <td>-1.644e+04</td> <td> 3314.974</td> <td>   -4.961</td> <td> 0.000</td> <td> -2.3e+04</td> <td>-9927.608</td>\n",
       "</tr>\n",
       "<tr>\n",
       "  <th>x1</th>    <td>    5.3723</td> <td>    1.596</td> <td>    3.366</td> <td> 0.001</td> <td>    2.235</td> <td>    8.509</td>\n",
       "</tr>\n",
       "<tr>\n",
       "  <th>x2</th>    <td>   -0.2704</td> <td>    0.038</td> <td>   -7.031</td> <td> 0.000</td> <td>   -0.346</td> <td>   -0.195</td>\n",
       "</tr>\n",
       "<tr>\n",
       "  <th>x3</th>    <td>   -0.0044</td> <td>    0.000</td> <td>   -8.898</td> <td> 0.000</td> <td>   -0.005</td> <td>   -0.003</td>\n",
       "</tr>\n",
       "<tr>\n",
       "  <th>x4</th>    <td>    1.1348</td> <td>    0.188</td> <td>    6.051</td> <td> 0.000</td> <td>    0.766</td> <td>    1.503</td>\n",
       "</tr>\n",
       "<tr>\n",
       "  <th>x5</th>    <td>  227.1563</td> <td>   44.141</td> <td>    5.146</td> <td> 0.000</td> <td>  140.385</td> <td>  313.927</td>\n",
       "</tr>\n",
       "</table>\n",
       "<table class=\"simpletable\">\n",
       "<tr>\n",
       "  <th>Omnibus:</th>       <td>234.064</td> <th>  Durbin-Watson:     </th> <td>   2.154</td>\n",
       "</tr>\n",
       "<tr>\n",
       "  <th>Prob(Omnibus):</th> <td> 0.000</td>  <th>  Jarque-Bera (JB):  </th> <td>3695.663</td>\n",
       "</tr>\n",
       "<tr>\n",
       "  <th>Skew:</th>          <td> 2.050</td>  <th>  Prob(JB):          </th> <td>    0.00</td>\n",
       "</tr>\n",
       "<tr>\n",
       "  <th>Kurtosis:</th>      <td>17.051</td>  <th>  Cond. No.          </th> <td>1.82e+07</td>\n",
       "</tr>\n",
       "</table><br/><br/>Warnings:<br/>[1] Standard Errors assume that the covariance matrix of the errors is correctly specified.<br/>[2] The condition number is large, 1.82e+07. This might indicate that there are<br/>strong multicollinearity or other numerical problems."
      ],
      "text/plain": [
       "<class 'statsmodels.iolib.summary.Summary'>\n",
       "\"\"\"\n",
       "                                OLS Regression Results                                \n",
       "======================================================================================\n",
       "Dep. Variable:     y_house_price_of_unit_area   R-squared:                       0.583\n",
       "Model:                                    OLS   Adj. R-squared:                  0.578\n",
       "Method:                         Least Squares   F-statistic:                     114.0\n",
       "Date:                        Wed, 20 Oct 2021   Prob (F-statistic):           3.65e-75\n",
       "Time:                                21:57:36   Log-Likelihood:                -1486.8\n",
       "No. Observations:                         414   AIC:                             2986.\n",
       "Df Residuals:                             408   BIC:                             3010.\n",
       "Df Model:                                   5                                         \n",
       "Covariance Type:                    nonrobust                                         \n",
       "==============================================================================\n",
       "                 coef    std err          t      P>|t|      [0.025      0.975]\n",
       "------------------------------------------------------------------------------\n",
       "const      -1.644e+04   3314.974     -4.961      0.000    -2.3e+04   -9927.608\n",
       "x1             5.3723      1.596      3.366      0.001       2.235       8.509\n",
       "x2            -0.2704      0.038     -7.031      0.000      -0.346      -0.195\n",
       "x3            -0.0044      0.000     -8.898      0.000      -0.005      -0.003\n",
       "x4             1.1348      0.188      6.051      0.000       0.766       1.503\n",
       "x5           227.1563     44.141      5.146      0.000     140.385     313.927\n",
       "==============================================================================\n",
       "Omnibus:                      234.064   Durbin-Watson:                   2.154\n",
       "Prob(Omnibus):                  0.000   Jarque-Bera (JB):             3695.663\n",
       "Skew:                           2.050   Prob(JB):                         0.00\n",
       "Kurtosis:                      17.051   Cond. No.                     1.82e+07\n",
       "==============================================================================\n",
       "\n",
       "Warnings:\n",
       "[1] Standard Errors assume that the covariance matrix of the errors is correctly specified.\n",
       "[2] The condition number is large, 1.82e+07. This might indicate that there are\n",
       "strong multicollinearity or other numerical problems.\n",
       "\"\"\""
      ]
     },
     "execution_count": 65,
     "metadata": {},
     "output_type": "execute_result"
    }
   ],
   "source": [
    "x = sm.add_constant(x7.values)\n",
    "results = sm.OLS(y,x).fit()\n",
    "results.summary()"
   ]
  },
  {
   "cell_type": "markdown",
   "metadata": {},
   "source": [
    "## Linear Regression Equation"
   ]
  },
  {
   "cell_type": "markdown",
   "metadata": {},
   "source": [
    "## yhat = 5.3723*x1 + -0.2704*x2 + -0.0044*x3 + 1.1348*x4 + 227.1563*x5 + -1.644e+04"
   ]
  },
  {
   "cell_type": "code",
   "execution_count": null,
   "metadata": {},
   "outputs": [],
   "source": []
  }
 ],
 "metadata": {
  "kernelspec": {
   "display_name": "Python 3",
   "language": "python",
   "name": "python3"
  },
  "language_info": {
   "codemirror_mode": {
    "name": "ipython",
    "version": 3
   },
   "file_extension": ".py",
   "mimetype": "text/x-python",
   "name": "python",
   "nbconvert_exporter": "python",
   "pygments_lexer": "ipython3",
   "version": "3.7.4"
  }
 },
 "nbformat": 4,
 "nbformat_minor": 4
}
