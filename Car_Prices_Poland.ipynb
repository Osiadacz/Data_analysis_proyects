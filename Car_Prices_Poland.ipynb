{
 "cells": [
  {
   "cell_type": "markdown",
   "id": "afb85d02-f195-4c16-9a73-b691ba16f962",
   "metadata": {},
   "source": [
    "# Car Prices Poland: Predict sale prices for cars in Poland"
   ]
  },
  {
   "cell_type": "code",
   "execution_count": null,
   "id": "5ffc43e2-ab1c-4db7-9162-47631b2f5427",
   "metadata": {},
   "outputs": [],
   "source": []
  },
  {
   "cell_type": "code",
   "execution_count": 2,
   "id": "31090679-6a95-4f1e-82ed-fd27b48b372b",
   "metadata": {},
   "outputs": [],
   "source": [
    "import pandas as pd\n",
    "import numpy as np\n",
    "import matplotlib.pyplot as plt\n",
    "import seaborn as sns\n",
    "sns.set()\n",
    "from sklearn.linear_model import LinearRegression\n",
    "from sklearn.feature_selection import RFE\n",
    "from sklearn.svm import SVR\n",
    "import warnings\n",
    "warnings.filterwarnings(\"ignore\", category=DeprecationWarning)\n",
    "warnings.filterwarnings(\"ignore\", category=FutureWarning)"
   ]
  },
  {
   "cell_type": "markdown",
   "id": "122e578c-ebb9-4838-aad8-76cb7c2d853d",
   "metadata": {},
   "source": [
    "## Load the data"
   ]
  },
  {
   "cell_type": "code",
   "execution_count": 3,
   "id": "a7b362ba-d22b-4d5d-934f-36c71ef9062a",
   "metadata": {},
   "outputs": [
    {
     "name": "stdout",
     "output_type": "stream",
     "text": [
      "   Unnamed: 0  mark  model generation_name  year  mileage  vol_engine    fuel  \\\n",
      "0           0  opel  combo      gen-d-2011  2015   139568        1248  Diesel   \n",
      "1           1  opel  combo      gen-d-2011  2018    31991        1499  Diesel   \n",
      "2           2  opel  combo      gen-d-2011  2015   278437        1598  Diesel   \n",
      "3           3  opel  combo      gen-d-2011  2016    47600        1248  Diesel   \n",
      "4           4  opel  combo      gen-d-2011  2014   103000        1400     CNG   \n",
      "\n",
      "              city     province  price  \n",
      "0            Janki  Mazowieckie  35900  \n",
      "1         Katowice      Śląskie  78501  \n",
      "2            Brzeg     Opolskie  27000  \n",
      "3        Korfantów     Opolskie  30800  \n",
      "4  Tarnowskie Góry      Śląskie  35900  \n",
      "\n",
      "------------------------------------\n",
      "        Unnamed: 0   mark  model    generation_name  year  mileage  \\\n",
      "117922      117922  volvo  xc-90  gen-ii-2014-xc-90  2020    40000   \n",
      "117923      117923  volvo  xc-90  gen-ii-2014-xc-90  2017    51000   \n",
      "117924      117924  volvo  xc-90  gen-ii-2014-xc-90  2016    83500   \n",
      "117925      117925  volvo  xc-90  gen-ii-2014-xc-90  2017   174000   \n",
      "117926      117926  volvo  xc-90  gen-ii-2014-xc-90  2016   189020   \n",
      "\n",
      "        vol_engine      fuel              city       province   price  \n",
      "117922        1969    Hybrid          Katowice        Śląskie  222790  \n",
      "117923        1969    Diesel  Chechło Pierwsze        Łódzkie  229900  \n",
      "117924        1969  Gasoline   Pruszcz Gdański      Pomorskie  135000  \n",
      "117925        1969    Diesel            Kalisz  Wielkopolskie  154500  \n",
      "117926        1969  Gasoline            Sionna    Mazowieckie  130000  \n"
     ]
    }
   ],
   "source": [
    "data = pd.read_csv(r'E:\\Proyects\\Python proyects\\Datasets\\Car_Prices_Poland_Kaggle.csv')\n",
    "\n",
    "print(data.head(5))    # to see the information of the 5 first rows\n",
    "print('\\n'+'------------------------------------')\n",
    "print(data.tail(5))    # to see the information of the 5 last rows"
   ]
  },
  {
   "cell_type": "code",
   "execution_count": 4,
   "id": "a4d9ac84-72fc-429f-a039-e202e3b23d3d",
   "metadata": {},
   "outputs": [
    {
     "name": "stdout",
     "output_type": "stream",
     "text": [
      "Index(['Unnamed: 0', 'mark', 'model', 'generation_name', 'year', 'mileage',\n",
      "       'vol_engine', 'fuel', 'city', 'province', 'price'],\n",
      "      dtype='object')\n"
     ]
    }
   ],
   "source": [
    "print(data.columns)    # to see the columns names"
   ]
  },
  {
   "cell_type": "markdown",
   "id": "2c921cb4-1a26-45d6-b4fd-c2bb54b44205",
   "metadata": {},
   "source": [
    "### Explore the data"
   ]
  },
  {
   "cell_type": "code",
   "execution_count": 5,
   "id": "0de555c2-4548-44ec-b4a5-03c8450fa098",
   "metadata": {},
   "outputs": [
    {
     "data": {
      "text/plain": [
       "(117927, 11)"
      ]
     },
     "execution_count": 5,
     "metadata": {},
     "output_type": "execute_result"
    }
   ],
   "source": [
    "data.shape     # it shows the total number of rowa and columns of the dataset"
   ]
  },
  {
   "cell_type": "code",
   "execution_count": 6,
   "id": "c99fea64-2512-4fb6-8034-4ab9b62f6cf6",
   "metadata": {},
   "outputs": [
    {
     "data": {
      "text/plain": [
       "Unnamed: 0          int64\n",
       "mark               object\n",
       "model              object\n",
       "generation_name    object\n",
       "year                int64\n",
       "mileage             int64\n",
       "vol_engine          int64\n",
       "fuel               object\n",
       "city               object\n",
       "province           object\n",
       "price               int64\n",
       "dtype: object"
      ]
     },
     "execution_count": 6,
     "metadata": {},
     "output_type": "execute_result"
    }
   ],
   "source": [
    "data.dtypes    # it shows the data type of each column"
   ]
  },
  {
   "cell_type": "code",
   "execution_count": 7,
   "id": "f4e72695-c4c6-4cf1-a334-a0124b9e3db7",
   "metadata": {},
   "outputs": [
    {
     "data": {
      "text/plain": [
       "Unnamed: 0         117927\n",
       "mark                   23\n",
       "model                 328\n",
       "generation_name       364\n",
       "year                   54\n",
       "mileage             35394\n",
       "vol_engine            508\n",
       "fuel                    6\n",
       "city                 4427\n",
       "province               23\n",
       "price                9310\n",
       "dtype: int64"
      ]
     },
     "execution_count": 7,
     "metadata": {},
     "output_type": "execute_result"
    }
   ],
   "source": [
    "data.nunique()  # it shows the total number of uniques values in each column of the dataset"
   ]
  },
  {
   "cell_type": "code",
   "execution_count": 8,
   "id": "c5a6c0a7-8a8f-4c09-a53b-7fbd2c0dca01",
   "metadata": {},
   "outputs": [
    {
     "data": {
      "text/plain": [
       "Unnamed: 0         117927\n",
       "mark               117927\n",
       "model              117927\n",
       "generation_name     87842\n",
       "year               117927\n",
       "mileage            117927\n",
       "vol_engine         117927\n",
       "fuel               117927\n",
       "city               117927\n",
       "province           117927\n",
       "price              117927\n",
       "dtype: int64"
      ]
     },
     "execution_count": 8,
     "metadata": {},
     "output_type": "execute_result"
    }
   ],
   "source": [
    "data.count()  # it shows the total number of non-null in each solumn"
   ]
  },
  {
   "cell_type": "code",
   "execution_count": 9,
   "id": "9be53b47-8bb8-4728-a855-bc42f4889d9a",
   "metadata": {},
   "outputs": [
    {
     "name": "stdout",
     "output_type": "stream",
     "text": [
      "<class 'pandas.core.frame.DataFrame'>\n",
      "RangeIndex: 117927 entries, 0 to 117926\n",
      "Data columns (total 11 columns):\n",
      " #   Column           Non-Null Count   Dtype \n",
      "---  ------           --------------   ----- \n",
      " 0   Unnamed: 0       117927 non-null  int64 \n",
      " 1   mark             117927 non-null  object\n",
      " 2   model            117927 non-null  object\n",
      " 3   generation_name  87842 non-null   object\n",
      " 4   year             117927 non-null  int64 \n",
      " 5   mileage          117927 non-null  int64 \n",
      " 6   vol_engine       117927 non-null  int64 \n",
      " 7   fuel             117927 non-null  object\n",
      " 8   city             117927 non-null  object\n",
      " 9   province         117927 non-null  object\n",
      " 10  price            117927 non-null  int64 \n",
      "dtypes: int64(5), object(6)\n",
      "memory usage: 9.9+ MB\n"
     ]
    }
   ],
   "source": [
    "data.info()  # provides basic information about the dataset"
   ]
  },
  {
   "cell_type": "markdown",
   "id": "e2e17e7c-594b-42cc-8469-9ee099c13e67",
   "metadata": {},
   "source": [
    "### Eliminate the column 'Unnamed'"
   ]
  },
  {
   "cell_type": "code",
   "execution_count": 10,
   "id": "3a5ad2cb-094f-4af4-bc1d-9d836a696293",
   "metadata": {},
   "outputs": [],
   "source": [
    "data = data.drop(columns=['Unnamed: 0'])"
   ]
  },
  {
   "cell_type": "code",
   "execution_count": 11,
   "id": "d7f43127-2088-4f6d-bdbc-b120f0c44ae2",
   "metadata": {},
   "outputs": [
    {
     "name": "stdout",
     "output_type": "stream",
     "text": [
      "   mark  model generation_name  year  mileage  vol_engine    fuel  \\\n",
      "0  opel  combo      gen-d-2011  2015   139568        1248  Diesel   \n",
      "1  opel  combo      gen-d-2011  2018    31991        1499  Diesel   \n",
      "2  opel  combo      gen-d-2011  2015   278437        1598  Diesel   \n",
      "3  opel  combo      gen-d-2011  2016    47600        1248  Diesel   \n",
      "4  opel  combo      gen-d-2011  2014   103000        1400     CNG   \n",
      "\n",
      "              city     province  price  \n",
      "0            Janki  Mazowieckie  35900  \n",
      "1         Katowice      Śląskie  78501  \n",
      "2            Brzeg     Opolskie  27000  \n",
      "3        Korfantów     Opolskie  30800  \n",
      "4  Tarnowskie Góry      Śląskie  35900  \n"
     ]
    }
   ],
   "source": [
    "print(data.head(5))"
   ]
  },
  {
   "cell_type": "markdown",
   "id": "03dba88c-4273-4fc9-bd5d-5f6f6f560771",
   "metadata": {},
   "source": [
    "### Eliminate the null values\n",
    "\n",
    "* We chose to eliminate the 'generation_name' column because it has too many null values"
   ]
  },
  {
   "cell_type": "code",
   "execution_count": 12,
   "id": "d6cc6b02-509e-47ba-a2b7-39ea40db413e",
   "metadata": {},
   "outputs": [],
   "source": [
    "data = data.drop(columns=['generation_name'])"
   ]
  },
  {
   "cell_type": "code",
   "execution_count": 13,
   "id": "9a6aba4a-706f-4f32-8283-236524abc2c4",
   "metadata": {},
   "outputs": [
    {
     "data": {
      "text/html": [
       "<div><div id=52c54575-7acb-4424-beb7-0b0fb9fc0e28 style=\"display:none; background-color:#9D6CFF; color:white; width:200px; height:30px; padding-left:5px; border-radius:4px; flex-direction:row; justify-content:space-around; align-items:center;\" onmouseover=\"this.style.backgroundColor='#BA9BF8'\" onmouseout=\"this.style.backgroundColor='#9D6CFF'\" onclick=\"window.commands?.execute('create-mitosheet-from-dataframe-output');\">See Full Dataframe in Mito</div> <script> if (window.commands.hasCommand('create-mitosheet-from-dataframe-output')) document.getElementById('52c54575-7acb-4424-beb7-0b0fb9fc0e28').style.display = 'flex' </script> <table border=\"1\" class=\"dataframe\">\n",
       "  <thead>\n",
       "    <tr style=\"text-align: right;\">\n",
       "      <th></th>\n",
       "      <th>mark</th>\n",
       "      <th>model</th>\n",
       "      <th>year</th>\n",
       "      <th>mileage</th>\n",
       "      <th>vol_engine</th>\n",
       "      <th>fuel</th>\n",
       "      <th>city</th>\n",
       "      <th>province</th>\n",
       "      <th>price</th>\n",
       "    </tr>\n",
       "  </thead>\n",
       "  <tbody>\n",
       "    <tr>\n",
       "      <th>0</th>\n",
       "      <td>opel</td>\n",
       "      <td>combo</td>\n",
       "      <td>2015</td>\n",
       "      <td>139568</td>\n",
       "      <td>1248</td>\n",
       "      <td>Diesel</td>\n",
       "      <td>Janki</td>\n",
       "      <td>Mazowieckie</td>\n",
       "      <td>35900</td>\n",
       "    </tr>\n",
       "    <tr>\n",
       "      <th>1</th>\n",
       "      <td>opel</td>\n",
       "      <td>combo</td>\n",
       "      <td>2018</td>\n",
       "      <td>31991</td>\n",
       "      <td>1499</td>\n",
       "      <td>Diesel</td>\n",
       "      <td>Katowice</td>\n",
       "      <td>Śląskie</td>\n",
       "      <td>78501</td>\n",
       "    </tr>\n",
       "    <tr>\n",
       "      <th>2</th>\n",
       "      <td>opel</td>\n",
       "      <td>combo</td>\n",
       "      <td>2015</td>\n",
       "      <td>278437</td>\n",
       "      <td>1598</td>\n",
       "      <td>Diesel</td>\n",
       "      <td>Brzeg</td>\n",
       "      <td>Opolskie</td>\n",
       "      <td>27000</td>\n",
       "    </tr>\n",
       "    <tr>\n",
       "      <th>3</th>\n",
       "      <td>opel</td>\n",
       "      <td>combo</td>\n",
       "      <td>2016</td>\n",
       "      <td>47600</td>\n",
       "      <td>1248</td>\n",
       "      <td>Diesel</td>\n",
       "      <td>Korfantów</td>\n",
       "      <td>Opolskie</td>\n",
       "      <td>30800</td>\n",
       "    </tr>\n",
       "    <tr>\n",
       "      <th>4</th>\n",
       "      <td>opel</td>\n",
       "      <td>combo</td>\n",
       "      <td>2014</td>\n",
       "      <td>103000</td>\n",
       "      <td>1400</td>\n",
       "      <td>CNG</td>\n",
       "      <td>Tarnowskie Góry</td>\n",
       "      <td>Śląskie</td>\n",
       "      <td>35900</td>\n",
       "    </tr>\n",
       "  </tbody>\n",
       "</table></div>"
      ],
      "text/plain": [
       "   mark  model  year  mileage  vol_engine    fuel             city  \\\n",
       "0  opel  combo  2015   139568        1248  Diesel            Janki   \n",
       "1  opel  combo  2018    31991        1499  Diesel         Katowice   \n",
       "2  opel  combo  2015   278437        1598  Diesel            Brzeg   \n",
       "3  opel  combo  2016    47600        1248  Diesel        Korfantów   \n",
       "4  opel  combo  2014   103000        1400     CNG  Tarnowskie Góry   \n",
       "\n",
       "      province  price  \n",
       "0  Mazowieckie  35900  \n",
       "1      Śląskie  78501  \n",
       "2     Opolskie  27000  \n",
       "3     Opolskie  30800  \n",
       "4      Śląskie  35900  "
      ]
     },
     "execution_count": 13,
     "metadata": {},
     "output_type": "execute_result"
    }
   ],
   "source": [
    "data.head(5)"
   ]
  },
  {
   "cell_type": "markdown",
   "id": "a3a23222-d2c7-4370-85f4-93cbdd6d8f1e",
   "metadata": {},
   "source": [
    "### Create a dataset savepoint"
   ]
  },
  {
   "cell_type": "code",
   "execution_count": 14,
   "id": "891eae3b-7394-4638-869d-d5e9f2f8b0ec",
   "metadata": {},
   "outputs": [],
   "source": [
    "data.to_csv(r'E:\\Proyects\\Python proyects\\Datasets\\Car_Prices_Poland_Modified.csv', index=False)"
   ]
  },
  {
   "cell_type": "code",
   "execution_count": 15,
   "id": "668c1c2c-7cc9-4dde-b285-0049356e4120",
   "metadata": {},
   "outputs": [
    {
     "name": "stdout",
     "output_type": "stream",
     "text": [
      "<class 'pandas.core.frame.DataFrame'>\n",
      "RangeIndex: 117927 entries, 0 to 117926\n",
      "Data columns (total 9 columns):\n",
      " #   Column      Non-Null Count   Dtype \n",
      "---  ------      --------------   ----- \n",
      " 0   mark        117927 non-null  object\n",
      " 1   model       117927 non-null  object\n",
      " 2   year        117927 non-null  int64 \n",
      " 3   mileage     117927 non-null  int64 \n",
      " 4   vol_engine  117927 non-null  int64 \n",
      " 5   fuel        117927 non-null  object\n",
      " 6   city        117927 non-null  object\n",
      " 7   province    117927 non-null  object\n",
      " 8   price       117927 non-null  int64 \n",
      "dtypes: int64(4), object(5)\n",
      "memory usage: 8.1+ MB\n"
     ]
    }
   ],
   "source": [
    "data.info()"
   ]
  },
  {
   "cell_type": "code",
   "execution_count": 16,
   "id": "d0e17740-4193-4e35-b17c-481c5616dfee",
   "metadata": {},
   "outputs": [
    {
     "data": {
      "text/plain": [
       "mark             23\n",
       "model           328\n",
       "year             54\n",
       "mileage       35394\n",
       "vol_engine      508\n",
       "fuel              6\n",
       "city           4427\n",
       "province         23\n",
       "price          9310\n",
       "dtype: int64"
      ]
     },
     "execution_count": 16,
     "metadata": {},
     "output_type": "execute_result"
    }
   ],
   "source": [
    "data.nunique()"
   ]
  },
  {
   "cell_type": "markdown",
   "id": "780ccb73-ecde-4b7f-93d5-1602ead25289",
   "metadata": {},
   "source": [
    "### Ploting the data"
   ]
  },
  {
   "cell_type": "code",
   "execution_count": 17,
   "id": "2eb97c40-58f1-40e1-a10f-46c8e7eafde9",
   "metadata": {},
   "outputs": [
    {
     "data": {
      "text/plain": [
       "<seaborn.axisgrid.PairGrid at 0x28581131448>"
      ]
     },
     "execution_count": 17,
     "metadata": {},
     "output_type": "execute_result"
    },
    {
     "data": {
      "image/png": "[encoded data removed]",
      "text/plain": [
       "<Figure size 720x720 with 20 Axes>"
      ]
     },
     "metadata": {},
     "output_type": "display_data"
    }
   ],
   "source": [
    "sns.pairplot(data)"
   ]
  },
  {
   "cell_type": "markdown",
   "id": "941d99e3-8915-4fc1-b071-e049312e061a",
   "metadata": {},
   "source": [
    "### Creating dummy variables\n",
    "\n",
    "* The idea is to transform the non numeric values into numeric values"
   ]
  },
  {
   "cell_type": "code",
   "execution_count": 18,
   "id": "532e3693-25da-4881-bd05-be23ee681a19",
   "metadata": {},
   "outputs": [],
   "source": [
    "df = pd.get_dummies(data)"
   ]
  },
  {
   "cell_type": "code",
   "execution_count": 19,
   "id": "3265d7c3-f6d9-41f4-bf92-452d64418b07",
   "metadata": {},
   "outputs": [
    {
     "data": {
      "text/html": [
       "<div><div id=7a4ce2a7-ed1a-4626-82db-4ce3651ae6c1 style=\"display:none; background-color:#9D6CFF; color:white; width:200px; height:30px; padding-left:5px; border-radius:4px; flex-direction:row; justify-content:space-around; align-items:center;\" onmouseover=\"this.style.backgroundColor='#BA9BF8'\" onmouseout=\"this.style.backgroundColor='#9D6CFF'\" onclick=\"window.commands?.execute('create-mitosheet-from-dataframe-output');\">See Full Dataframe in Mito</div> <script> if (window.commands.hasCommand('create-mitosheet-from-dataframe-output')) document.getElementById('7a4ce2a7-ed1a-4626-82db-4ce3651ae6c1').style.display = 'flex' </script> <table border=\"1\" class=\"dataframe\">\n",
       "  <thead>\n",
       "    <tr style=\"text-align: right;\">\n",
       "      <th></th>\n",
       "      <th>year</th>\n",
       "      <th>mileage</th>\n",
       "      <th>vol_engine</th>\n",
       "      <th>price</th>\n",
       "      <th>mark_alfa-romeo</th>\n",
       "      <th>mark_audi</th>\n",
       "      <th>mark_bmw</th>\n",
       "      <th>mark_chevrolet</th>\n",
       "      <th>mark_citroen</th>\n",
       "      <th>mark_fiat</th>\n",
       "      <th>...</th>\n",
       "      <th>province_Podlaskie</th>\n",
       "      <th>province_Pomorskie</th>\n",
       "      <th>province_Trenczyn</th>\n",
       "      <th>province_Warmińsko-mazurskie</th>\n",
       "      <th>province_Wiedeń</th>\n",
       "      <th>province_Wielkopolskie</th>\n",
       "      <th>province_Zachodniopomorskie</th>\n",
       "      <th>province_Łódzkie</th>\n",
       "      <th>province_Śląskie</th>\n",
       "      <th>province_Świętokrzyskie</th>\n",
       "    </tr>\n",
       "  </thead>\n",
       "  <tbody>\n",
       "    <tr>\n",
       "      <th>0</th>\n",
       "      <td>2015</td>\n",
       "      <td>139568</td>\n",
       "      <td>1248</td>\n",
       "      <td>35900</td>\n",
       "      <td>0</td>\n",
       "      <td>0</td>\n",
       "      <td>0</td>\n",
       "      <td>0</td>\n",
       "      <td>0</td>\n",
       "      <td>0</td>\n",
       "      <td>...</td>\n",
       "      <td>0</td>\n",
       "      <td>0</td>\n",
       "      <td>0</td>\n",
       "      <td>0</td>\n",
       "      <td>0</td>\n",
       "      <td>0</td>\n",
       "      <td>0</td>\n",
       "      <td>0</td>\n",
       "      <td>0</td>\n",
       "      <td>0</td>\n",
       "    </tr>\n",
       "    <tr>\n",
       "      <th>1</th>\n",
       "      <td>2018</td>\n",
       "      <td>31991</td>\n",
       "      <td>1499</td>\n",
       "      <td>78501</td>\n",
       "      <td>0</td>\n",
       "      <td>0</td>\n",
       "      <td>0</td>\n",
       "      <td>0</td>\n",
       "      <td>0</td>\n",
       "      <td>0</td>\n",
       "      <td>...</td>\n",
       "      <td>0</td>\n",
       "      <td>0</td>\n",
       "      <td>0</td>\n",
       "      <td>0</td>\n",
       "      <td>0</td>\n",
       "      <td>0</td>\n",
       "      <td>0</td>\n",
       "      <td>0</td>\n",
       "      <td>1</td>\n",
       "      <td>0</td>\n",
       "    </tr>\n",
       "    <tr>\n",
       "      <th>2</th>\n",
       "      <td>2015</td>\n",
       "      <td>278437</td>\n",
       "      <td>1598</td>\n",
       "      <td>27000</td>\n",
       "      <td>0</td>\n",
       "      <td>0</td>\n",
       "      <td>0</td>\n",
       "      <td>0</td>\n",
       "      <td>0</td>\n",
       "      <td>0</td>\n",
       "      <td>...</td>\n",
       "      <td>0</td>\n",
       "      <td>0</td>\n",
       "      <td>0</td>\n",
       "      <td>0</td>\n",
       "      <td>0</td>\n",
       "      <td>0</td>\n",
       "      <td>0</td>\n",
       "      <td>0</td>\n",
       "      <td>0</td>\n",
       "      <td>0</td>\n",
       "    </tr>\n",
       "    <tr>\n",
       "      <th>3</th>\n",
       "      <td>2016</td>\n",
       "      <td>47600</td>\n",
       "      <td>1248</td>\n",
       "      <td>30800</td>\n",
       "      <td>0</td>\n",
       "      <td>0</td>\n",
       "      <td>0</td>\n",
       "      <td>0</td>\n",
       "      <td>0</td>\n",
       "      <td>0</td>\n",
       "      <td>...</td>\n",
       "      <td>0</td>\n",
       "      <td>0</td>\n",
       "      <td>0</td>\n",
       "      <td>0</td>\n",
       "      <td>0</td>\n",
       "      <td>0</td>\n",
       "      <td>0</td>\n",
       "      <td>0</td>\n",
       "      <td>0</td>\n",
       "      <td>0</td>\n",
       "    </tr>\n",
       "    <tr>\n",
       "      <th>4</th>\n",
       "      <td>2014</td>\n",
       "      <td>103000</td>\n",
       "      <td>1400</td>\n",
       "      <td>35900</td>\n",
       "      <td>0</td>\n",
       "      <td>0</td>\n",
       "      <td>0</td>\n",
       "      <td>0</td>\n",
       "      <td>0</td>\n",
       "      <td>0</td>\n",
       "      <td>...</td>\n",
       "      <td>0</td>\n",
       "      <td>0</td>\n",
       "      <td>0</td>\n",
       "      <td>0</td>\n",
       "      <td>0</td>\n",
       "      <td>0</td>\n",
       "      <td>0</td>\n",
       "      <td>0</td>\n",
       "      <td>1</td>\n",
       "      <td>0</td>\n",
       "    </tr>\n",
       "  </tbody>\n",
       "</table></div>"
      ],
      "text/plain": [
       "   year  mileage  vol_engine  price  mark_alfa-romeo  mark_audi  mark_bmw  \\\n",
       "0  2015   139568        1248  35900                0          0         0   \n",
       "1  2018    31991        1499  78501                0          0         0   \n",
       "2  2015   278437        1598  27000                0          0         0   \n",
       "3  2016    47600        1248  30800                0          0         0   \n",
       "4  2014   103000        1400  35900                0          0         0   \n",
       "\n",
       "   mark_chevrolet  mark_citroen  mark_fiat  ...  province_Podlaskie  \\\n",
       "0               0             0          0  ...                   0   \n",
       "1               0             0          0  ...                   0   \n",
       "2               0             0          0  ...                   0   \n",
       "3               0             0          0  ...                   0   \n",
       "4               0             0          0  ...                   0   \n",
       "\n",
       "   province_Pomorskie  province_Trenczyn  province_Warmińsko-mazurskie  \\\n",
       "0                   0                  0                             0   \n",
       "1                   0                  0                             0   \n",
       "2                   0                  0                             0   \n",
       "3                   0                  0                             0   \n",
       "4                   0                  0                             0   \n",
       "\n",
       "   province_Wiedeń  province_Wielkopolskie  province_Zachodniopomorskie  \\\n",
       "0                0                       0                            0   \n",
       "1                0                       0                            0   \n",
       "2                0                       0                            0   \n",
       "3                0                       0                            0   \n",
       "4                0                       0                            0   \n",
       "\n",
       "   province_Łódzkie  province_Śląskie  province_Świętokrzyskie  \n",
       "0                 0                 0                        0  \n",
       "1                 0                 1                        0  \n",
       "2                 0                 0                        0  \n",
       "3                 0                 0                        0  \n",
       "4                 0                 1                        0  \n",
       "\n",
       "[5 rows x 4811 columns]"
      ]
     },
     "execution_count": 19,
     "metadata": {},
     "output_type": "execute_result"
    }
   ],
   "source": [
    "df.head()"
   ]
  },
  {
   "cell_type": "code",
   "execution_count": 20,
   "id": "270135f8-85cc-4e2e-a9e1-8d1ed75238a8",
   "metadata": {},
   "outputs": [
    {
     "data": {
      "text/plain": [
       "(117927, 4811)"
      ]
     },
     "execution_count": 20,
     "metadata": {},
     "output_type": "execute_result"
    }
   ],
   "source": [
    "df.shape    # 117927 rows and 4811 columns, where 0 = False and 1 = True"
   ]
  },
  {
   "cell_type": "markdown",
   "id": "ff74ffe0-960a-490b-937c-0c2bdf09d9d5",
   "metadata": {},
   "source": [
    "### Create the regression\n",
    "\n",
    "*  to get all the columns minus 'price'"
   ]
  },
  {
   "cell_type": "code",
   "execution_count": 21,
   "id": "a449e189-4ffa-46f1-979a-e768486788a4",
   "metadata": {},
   "outputs": [],
   "source": [
    "feature_cols = df.drop([\"price\"],axis=1)\n",
    "x = feature_cols\n",
    "y = df['price']"
   ]
  },
  {
   "cell_type": "code",
   "execution_count": 22,
   "id": "728f4e81-c075-4a62-85c5-c805e94c1e37",
   "metadata": {},
   "outputs": [
    {
     "data": {
      "text/plain": [
       "LinearRegression()"
      ]
     },
     "execution_count": 22,
     "metadata": {},
     "output_type": "execute_result"
    }
   ],
   "source": [
    "lm = LinearRegression()\n",
    "lm.fit(x, y)"
   ]
  },
  {
   "cell_type": "code",
   "execution_count": 23,
   "id": "46d88d02-63d3-4763-ad64-9011f36cd340",
   "metadata": {},
   "outputs": [
    {
     "data": {
      "text/plain": [
       "0.7926524150935859"
      ]
     },
     "execution_count": 23,
     "metadata": {},
     "output_type": "execute_result"
    }
   ],
   "source": [
    "lm.score(x,y)"
   ]
  },
  {
   "cell_type": "code",
   "execution_count": 24,
   "id": "94230a7d-6792-4c3e-8a2e-ca52fd07de66",
   "metadata": {},
   "outputs": [
    {
     "data": {
      "text/plain": [
       "-10293173.660122326"
      ]
     },
     "execution_count": 24,
     "metadata": {},
     "output_type": "execute_result"
    }
   ],
   "source": [
    "lm.intercept_"
   ]
  },
  {
   "cell_type": "code",
   "execution_count": 25,
   "id": "d66e0090-0907-4fc2-8448-e1e3e476b837",
   "metadata": {},
   "outputs": [
    {
     "data": {
      "text/plain": [
       "array([ 5.15886793e+03, -2.51847290e-01,  1.22406822e+01, ...,\n",
       "        1.07277766e+04,  5.33516930e+03,  4.65348376e+03])"
      ]
     },
     "execution_count": 25,
     "metadata": {},
     "output_type": "execute_result"
    }
   ],
   "source": [
    "lm.coef_"
   ]
  },
  {
   "cell_type": "markdown",
   "id": "cfa24562-399c-4776-835e-d0581f172737",
   "metadata": {},
   "source": [
    "* We got a 79% accuracy"
   ]
  },
  {
   "cell_type": "code",
   "execution_count": 27,
   "id": "079d34ae-bff0-455c-b7fe-7f2522109334",
   "metadata": {},
   "outputs": [],
   "source": [
    "df[\"prediction\"] = lm.predict(pd.DataFrame(feature_cols))"
   ]
  },
  {
   "cell_type": "code",
   "execution_count": 28,
   "id": "6ed6ebb5-8935-4360-9d41-55c08e626229",
   "metadata": {},
   "outputs": [
    {
     "data": {
      "text/html": [
       "<div><div id=b64f267e-0a1f-4b5a-b5f3-d2a52ea3b220 style=\"display:none; background-color:#9D6CFF; color:white; width:200px; height:30px; padding-left:5px; border-radius:4px; flex-direction:row; justify-content:space-around; align-items:center;\" onmouseover=\"this.style.backgroundColor='#BA9BF8'\" onmouseout=\"this.style.backgroundColor='#9D6CFF'\" onclick=\"window.commands?.execute('create-mitosheet-from-dataframe-output');\">See Full Dataframe in Mito</div> <script> if (window.commands.hasCommand('create-mitosheet-from-dataframe-output')) document.getElementById('b64f267e-0a1f-4b5a-b5f3-d2a52ea3b220').style.display = 'flex' </script> <table border=\"1\" class=\"dataframe\">\n",
       "  <thead>\n",
       "    <tr style=\"text-align: right;\">\n",
       "      <th></th>\n",
       "      <th>year</th>\n",
       "      <th>mileage</th>\n",
       "      <th>vol_engine</th>\n",
       "      <th>price</th>\n",
       "      <th>mark_alfa-romeo</th>\n",
       "      <th>mark_audi</th>\n",
       "      <th>mark_bmw</th>\n",
       "      <th>mark_chevrolet</th>\n",
       "      <th>mark_citroen</th>\n",
       "      <th>mark_fiat</th>\n",
       "      <th>...</th>\n",
       "      <th>province_Pomorskie</th>\n",
       "      <th>province_Trenczyn</th>\n",
       "      <th>province_Warmińsko-mazurskie</th>\n",
       "      <th>province_Wiedeń</th>\n",
       "      <th>province_Wielkopolskie</th>\n",
       "      <th>province_Zachodniopomorskie</th>\n",
       "      <th>province_Łódzkie</th>\n",
       "      <th>province_Śląskie</th>\n",
       "      <th>province_Świętokrzyskie</th>\n",
       "      <th>prediction</th>\n",
       "    </tr>\n",
       "  </thead>\n",
       "  <tbody>\n",
       "    <tr>\n",
       "      <th>0</th>\n",
       "      <td>2015</td>\n",
       "      <td>139568</td>\n",
       "      <td>1248</td>\n",
       "      <td>35900</td>\n",
       "      <td>0</td>\n",
       "      <td>0</td>\n",
       "      <td>0</td>\n",
       "      <td>0</td>\n",
       "      <td>0</td>\n",
       "      <td>0</td>\n",
       "      <td>...</td>\n",
       "      <td>0</td>\n",
       "      <td>0</td>\n",
       "      <td>0</td>\n",
       "      <td>0</td>\n",
       "      <td>0</td>\n",
       "      <td>0</td>\n",
       "      <td>0</td>\n",
       "      <td>0</td>\n",
       "      <td>0</td>\n",
       "      <td>36624.058768</td>\n",
       "    </tr>\n",
       "    <tr>\n",
       "      <th>1</th>\n",
       "      <td>2018</td>\n",
       "      <td>31991</td>\n",
       "      <td>1499</td>\n",
       "      <td>78501</td>\n",
       "      <td>0</td>\n",
       "      <td>0</td>\n",
       "      <td>0</td>\n",
       "      <td>0</td>\n",
       "      <td>0</td>\n",
       "      <td>0</td>\n",
       "      <td>...</td>\n",
       "      <td>0</td>\n",
       "      <td>0</td>\n",
       "      <td>0</td>\n",
       "      <td>0</td>\n",
       "      <td>0</td>\n",
       "      <td>0</td>\n",
       "      <td>0</td>\n",
       "      <td>1</td>\n",
       "      <td>0</td>\n",
       "      <td>84175.062482</td>\n",
       "    </tr>\n",
       "    <tr>\n",
       "      <th>2</th>\n",
       "      <td>2015</td>\n",
       "      <td>278437</td>\n",
       "      <td>1598</td>\n",
       "      <td>27000</td>\n",
       "      <td>0</td>\n",
       "      <td>0</td>\n",
       "      <td>0</td>\n",
       "      <td>0</td>\n",
       "      <td>0</td>\n",
       "      <td>0</td>\n",
       "      <td>...</td>\n",
       "      <td>0</td>\n",
       "      <td>0</td>\n",
       "      <td>0</td>\n",
       "      <td>0</td>\n",
       "      <td>0</td>\n",
       "      <td>0</td>\n",
       "      <td>0</td>\n",
       "      <td>0</td>\n",
       "      <td>0</td>\n",
       "      <td>13794.490336</td>\n",
       "    </tr>\n",
       "    <tr>\n",
       "      <th>3</th>\n",
       "      <td>2016</td>\n",
       "      <td>47600</td>\n",
       "      <td>1248</td>\n",
       "      <td>30800</td>\n",
       "      <td>0</td>\n",
       "      <td>0</td>\n",
       "      <td>0</td>\n",
       "      <td>0</td>\n",
       "      <td>0</td>\n",
       "      <td>0</td>\n",
       "      <td>...</td>\n",
       "      <td>0</td>\n",
       "      <td>0</td>\n",
       "      <td>0</td>\n",
       "      <td>0</td>\n",
       "      <td>0</td>\n",
       "      <td>0</td>\n",
       "      <td>0</td>\n",
       "      <td>0</td>\n",
       "      <td>0</td>\n",
       "      <td>29622.823424</td>\n",
       "    </tr>\n",
       "    <tr>\n",
       "      <th>4</th>\n",
       "      <td>2014</td>\n",
       "      <td>103000</td>\n",
       "      <td>1400</td>\n",
       "      <td>35900</td>\n",
       "      <td>0</td>\n",
       "      <td>0</td>\n",
       "      <td>0</td>\n",
       "      <td>0</td>\n",
       "      <td>0</td>\n",
       "      <td>0</td>\n",
       "      <td>...</td>\n",
       "      <td>0</td>\n",
       "      <td>0</td>\n",
       "      <td>0</td>\n",
       "      <td>0</td>\n",
       "      <td>0</td>\n",
       "      <td>0</td>\n",
       "      <td>0</td>\n",
       "      <td>1</td>\n",
       "      <td>0</td>\n",
       "      <td>35263.266520</td>\n",
       "    </tr>\n",
       "  </tbody>\n",
       "</table></div>"
      ],
      "text/plain": [
       "   year  mileage  vol_engine  price  mark_alfa-romeo  mark_audi  mark_bmw  \\\n",
       "0  2015   139568        1248  35900                0          0         0   \n",
       "1  2018    31991        1499  78501                0          0         0   \n",
       "2  2015   278437        1598  27000                0          0         0   \n",
       "3  2016    47600        1248  30800                0          0         0   \n",
       "4  2014   103000        1400  35900                0          0         0   \n",
       "\n",
       "   mark_chevrolet  mark_citroen  mark_fiat  ...  province_Pomorskie  \\\n",
       "0               0             0          0  ...                   0   \n",
       "1               0             0          0  ...                   0   \n",
       "2               0             0          0  ...                   0   \n",
       "3               0             0          0  ...                   0   \n",
       "4               0             0          0  ...                   0   \n",
       "\n",
       "   province_Trenczyn  province_Warmińsko-mazurskie  province_Wiedeń  \\\n",
       "0                  0                             0                0   \n",
       "1                  0                             0                0   \n",
       "2                  0                             0                0   \n",
       "3                  0                             0                0   \n",
       "4                  0                             0                0   \n",
       "\n",
       "   province_Wielkopolskie  province_Zachodniopomorskie  province_Łódzkie  \\\n",
       "0                       0                            0                 0   \n",
       "1                       0                            0                 0   \n",
       "2                       0                            0                 0   \n",
       "3                       0                            0                 0   \n",
       "4                       0                            0                 0   \n",
       "\n",
       "   province_Śląskie  province_Świętokrzyskie    prediction  \n",
       "0                 0                        0  36624.058768  \n",
       "1                 1                        0  84175.062482  \n",
       "2                 0                        0  13794.490336  \n",
       "3                 0                        0  29622.823424  \n",
       "4                 1                        0  35263.266520  \n",
       "\n",
       "[5 rows x 4812 columns]"
      ]
     },
     "execution_count": 28,
     "metadata": {},
     "output_type": "execute_result"
    }
   ],
   "source": [
    "df.head()"
   ]
  },
  {
   "cell_type": "code",
   "execution_count": 43,
   "id": "ca34a318-77f1-4616-b22d-1444a086726d",
   "metadata": {},
   "outputs": [],
   "source": [
    "df.to_csv(r'E:\\Proyects\\Python proyects\\Datasets\\Car_Prices_Poland_Final.csv', index=False)"
   ]
  },
  {
   "cell_type": "code",
   "execution_count": 55,
   "id": "4c6c5794-851c-4121-82f1-2e7364bcbf78",
   "metadata": {},
   "outputs": [],
   "source": [
    "tableau_df = df[[\"year\",\"price\",\"prediction\"]]"
   ]
  },
  {
   "cell_type": "code",
   "execution_count": 56,
   "id": "c07b20b9-a0fd-44f9-aaf8-3441eb671bf8",
   "metadata": {},
   "outputs": [
    {
     "data": {
      "text/html": [
       "<div><div id=c6cb889d-6435-48e3-bf09-c954a10a31f9 style=\"display:none; background-color:#9D6CFF; color:white; width:200px; height:30px; padding-left:5px; border-radius:4px; flex-direction:row; justify-content:space-around; align-items:center;\" onmouseover=\"this.style.backgroundColor='#BA9BF8'\" onmouseout=\"this.style.backgroundColor='#9D6CFF'\" onclick=\"window.commands?.execute('create-mitosheet-from-dataframe-output');\">See Full Dataframe in Mito</div> <script> if (window.commands.hasCommand('create-mitosheet-from-dataframe-output')) document.getElementById('c6cb889d-6435-48e3-bf09-c954a10a31f9').style.display = 'flex' </script> <table border=\"1\" class=\"dataframe\">\n",
       "  <thead>\n",
       "    <tr style=\"text-align: right;\">\n",
       "      <th></th>\n",
       "      <th>year</th>\n",
       "      <th>price</th>\n",
       "      <th>prediction</th>\n",
       "    </tr>\n",
       "  </thead>\n",
       "  <tbody>\n",
       "    <tr>\n",
       "      <th>0</th>\n",
       "      <td>2015</td>\n",
       "      <td>35900</td>\n",
       "      <td>36624.058768</td>\n",
       "    </tr>\n",
       "    <tr>\n",
       "      <th>1</th>\n",
       "      <td>2018</td>\n",
       "      <td>78501</td>\n",
       "      <td>84175.062482</td>\n",
       "    </tr>\n",
       "    <tr>\n",
       "      <th>2</th>\n",
       "      <td>2015</td>\n",
       "      <td>27000</td>\n",
       "      <td>13794.490336</td>\n",
       "    </tr>\n",
       "    <tr>\n",
       "      <th>3</th>\n",
       "      <td>2016</td>\n",
       "      <td>30800</td>\n",
       "      <td>29622.823424</td>\n",
       "    </tr>\n",
       "    <tr>\n",
       "      <th>4</th>\n",
       "      <td>2014</td>\n",
       "      <td>35900</td>\n",
       "      <td>35263.266520</td>\n",
       "    </tr>\n",
       "  </tbody>\n",
       "</table></div>"
      ],
      "text/plain": [
       "   year  price    prediction\n",
       "0  2015  35900  36624.058768\n",
       "1  2018  78501  84175.062482\n",
       "2  2015  27000  13794.490336\n",
       "3  2016  30800  29622.823424\n",
       "4  2014  35900  35263.266520"
      ]
     },
     "execution_count": 56,
     "metadata": {},
     "output_type": "execute_result"
    }
   ],
   "source": [
    "final_df.head()"
   ]
  },
  {
   "cell_type": "code",
   "execution_count": 58,
   "id": "b3d6585b-840f-4dad-b0e6-969f3dd7b825",
   "metadata": {},
   "outputs": [],
   "source": [
    "tableau_df.to_csv(r'E:\\Proyects\\Python proyects\\Datasets\\Car_Prices_Poland_Tableau.csv', index=False)"
   ]
  },
  {
   "cell_type": "code",
   "execution_count": null,
   "id": "974a94be-61b6-43ad-8adb-a6011d328811",
   "metadata": {},
   "outputs": [],
   "source": []
  }
 ],
 "metadata": {
  "kernelspec": {
   "display_name": "Python 3 (ipykernel)",
   "language": "python",
   "name": "python3"
  },
  "language_info": {
   "codemirror_mode": {
    "name": "ipython",
    "version": 3
   },
   "file_extension": ".py",
   "mimetype": "text/x-python",
   "name": "python",
   "nbconvert_exporter": "python",
   "pygments_lexer": "ipython3",
   "version": "3.7.4"
  }
 },
 "nbformat": 4,
 "nbformat_minor": 5
}
